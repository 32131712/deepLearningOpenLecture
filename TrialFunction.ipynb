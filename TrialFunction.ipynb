{
  "nbformat": 4,
  "nbformat_minor": 0,
  "metadata": {
    "colab": {
      "name": "TrialFunction",
      "version": "0.3.2",
      "provenance": [],
      "collapsed_sections": []
    },
    "kernelspec": {
      "name": "python3",
      "display_name": "Python 3"
    }
  },
  "cells": [
    {
      "cell_type": "markdown",
      "metadata": {
        "id": "view-in-github",
        "colab_type": "text"
      },
      "source": [
        "[View in Colaboratory](https://colab.research.google.com/github/eventia/deepLearningOpenLecture/blob/master/TrialFunction.ipynb)"
      ]
    },
    {
      "metadata": {
        "id": "Ozhye9fvA2jf",
        "colab_type": "code",
        "colab": {
          "base_uri": "https://localhost:8080/",
          "height": 105
        },
        "outputId": "aff2a24d-d78c-47a5-ab71-299b36ef27e8"
      },
      "cell_type": "code",
      "source": [
        "import numpy as np\n",
        "\n",
        "num_1 = np.random.randn(3, 4, 2, 2) # 3x4x2x2 정규분포(가우시안분포)에 해당되는 난수를 넣는다.\n",
        "num_2 = np.random.randn(3, 4)       # 3행 4열짜리 행렬에 정규분포(가우시안분포)에 해당되는 난수를 넣는다.\n",
        "num_3 = np.random.randn(30)         # 30개의 수를 정규분포(가우시안분포)에 해당되는 난수를 넣는다.\n",
        "# input_size, hidden_size = 28*28, 100\n",
        "# np.random.randn(input_size, hidden_size)\n",
        "\n",
        "# print(num_3)"
      ],
      "execution_count": 19,
      "outputs": [
        {
          "output_type": "stream",
          "text": [
            "[ 1.76562228 -0.21597826 -0.21031933  0.52876834  0.32589724 -0.44677165\n",
            " -0.86578754 -0.04539975  0.0905246   1.86864662  1.24820568 -0.03269246\n",
            " -0.52216902 -1.30079527 -0.87107226 -0.93069481  1.53053549 -0.54367682\n",
            " -0.34239392  0.09908021 -0.78996867  0.32780907  0.09661676 -0.90295826\n",
            "  0.91114493  0.64893135 -0.43628457  0.33676579 -1.59529487 -0.49389684]\n"
          ],
          "name": "stdout"
        }
      ]
    },
    {
      "metadata": {
        "id": "coW0rjVnt3Wp",
        "colab_type": "code",
        "colab": {
          "base_uri": "https://localhost:8080/",
          "height": 52
        },
        "outputId": "8aa1074a-115d-4f09-90a3-84bad116452e"
      },
      "cell_type": "code",
      "source": [
        "import numpy as np\n",
        "\n",
        "numsize = 10000\n",
        "sum0, sum1, sum2, sum3, sum4 = 0,0,0,0,0\n",
        "arrA = np.random.randint(5,size=numsize)\n",
        "for num in range(numsize) :\n",
        "  if arrA[num]==0 :\n",
        "    sum0 += 1;\n",
        "  elif arrA[num]==1 :\n",
        "    sum1 += 1\n",
        "  elif arrA[num]==2:\n",
        "    sum2 += 1\n",
        "  elif arrA[num]==3:\n",
        "    sum3 += 1  \n",
        "  elif arrA[num]==4:\n",
        "    sum4 += 1\n",
        "    \n",
        "print(sum0, sum1, sum2, sum3)\n",
        "\n",
        "sum = [0,0,0,0,0]\n",
        "sum = np.zeros(5)\n",
        "for num in range(numsize) :\n",
        "  sum[arrA[num]]+=1\n",
        "print(sum)"
      ],
      "execution_count": 48,
      "outputs": [
        {
          "output_type": "stream",
          "text": [
            "1900 1968 1977 2081\n",
            "[1900. 1968. 1977. 2081. 2074.]\n"
          ],
          "name": "stdout"
        }
      ]
    },
    {
      "metadata": {
        "id": "0t6isv7SztyR",
        "colab_type": "code",
        "colab": {
          "base_uri": "https://localhost:8080/",
          "height": 34
        },
        "outputId": "be10cad5-2321-451d-d58d-633b23502be6"
      },
      "cell_type": "code",
      "source": [
        "numsize = 10000\n",
        "arrA = np.random.rand(numsize)\n",
        "\n",
        "sum = np.zeros(9)\n",
        "for num in range(numsize):\n",
        "  for nn in range(10):\n",
        "    if arrA[num]< nn*0.1:\n",
        "      sum[nn-1]+=1\n",
        "      break\n",
        "\n",
        "print(sum)      \n"
      ],
      "execution_count": 65,
      "outputs": [
        {
          "output_type": "stream",
          "text": [
            "[1000. 1003. 1010. 1027.  978.  983.  997. 1020.  962.]\n"
          ],
          "name": "stdout"
        }
      ]
    },
    {
      "metadata": {
        "id": "kHQATFa03Q2s",
        "colab_type": "code",
        "colab": {
          "base_uri": "https://localhost:8080/",
          "height": 70
        },
        "outputId": "1ef85632-354a-4107-bcc4-268d4440c773"
      },
      "cell_type": "code",
      "source": [
        "import numpy as np\n",
        "\n",
        "numsize = 1000\n",
        "# arr_nd = np.random.randn(numsize)+100\n",
        "arr_nd = np.random.randn(numsize)+100\n",
        "arr_rd = np.random.rand(numsize)*100\n",
        "step  = [95,96,97,98,99,100,101,102,103,104]\n",
        "stepr = list(range(0,100,10))\n",
        "sum_nd = np.zeros(9)\n",
        "sum_rd = np.zeros(9)\n",
        "\n",
        "for num in range(numsize):\n",
        "  for nn in range(1,10):\n",
        "    if arr_nd[num]< step[nn]:\n",
        "      sum_nd[nn-1]+=1\n",
        "      break\n",
        "\n",
        "for num in range(numsize):\n",
        "  for nn in range(1,10):\n",
        "    if arr_rd[num]< stepr[nn]:\n",
        "      sum_rd[nn-1]+=1\n",
        "      break\n",
        "      \n",
        "print(\"RANGE  :   1    2    3    4    5    6    7    8    9\")\n",
        "print(\"sumN = \", sum_nd)\n",
        "print(\"sumR = \", sum_rd) \n",
        "# print(arr_rd)\n",
        "\n"
      ],
      "execution_count": 15,
      "outputs": [
        {
          "output_type": "stream",
          "text": [
            "RANGE  :   1    2    3    4    5    6    7    8    9\n",
            "sumN =  [  0.   0.  16. 139. 344. 327. 154.  19.   1.]\n",
            "sumR =  [ 95. 103. 106. 104. 107.  97. 108.  90.  95.]\n"
          ],
          "name": "stdout"
        }
      ]
    },
    {
      "metadata": {
        "id": "IQbq1BOAL3Lw",
        "colab_type": "code",
        "colab": {
          "base_uri": "https://localhost:8080/",
          "height": 52
        },
        "outputId": "3d130f19-0034-467e-82ce-11e0f45bbcd8"
      },
      "cell_type": "code",
      "source": [
        "import numpy as np\n",
        "\n",
        "numsize = 1000\n",
        "num_mean = 1000\n",
        "num_std = 100\n",
        "\n",
        "arr_rd = np.random.rand(numsize)*num_std+num_mean\n",
        "# step = range(num_mean-5*num_std,num_mean+5*num_std,num_std)\n",
        "step = range(num_mean,num_mean+num_std+1,int(num_std/10))\n",
        "\n",
        "sum_rd = np.zeros(10)\n",
        "\n",
        "for num in range(numsize):\n",
        "  for nn in range(0,10):\n",
        "    if arr_rd[num]< step[nn+1]:\n",
        "      sum_rd[nn]+=1\n",
        "      break\n",
        "      \n",
        "# for num in range(numsize):\n",
        "#   for nn in range(1,10):\n",
        "#     if arr_rd[num]< step[nn]:\n",
        "#       sum_rd[nn-1]+=1\n",
        "#       break\n",
        "\n",
        "print(\"step =\", list(step))\n",
        "print(\"sumR =\", sum_rd) \n",
        "# print(arr_rd)"
      ],
      "execution_count": 6,
      "outputs": [
        {
          "output_type": "stream",
          "text": [
            "step = [1000, 1010, 1020, 1030, 1040, 1050, 1060, 1070, 1080, 1090, 1100]\n",
            "sumR = [ 98.  91. 100.  95.  90. 111.  96. 109. 104. 106.]\n"
          ],
          "name": "stdout"
        }
      ]
    },
    {
      "metadata": {
        "id": "HRLZwRq-xBrN",
        "colab_type": "code",
        "colab": {
          "base_uri": "https://localhost:8080/",
          "height": 34
        },
        "outputId": "c60e5005-e3d8-4c73-9c9a-181e5c0ed902"
      },
      "cell_type": "code",
      "source": [
        ""
      ],
      "execution_count": 13,
      "outputs": [
        {
          "output_type": "stream",
          "text": [
            "range(1, 10)\n"
          ],
          "name": "stdout"
        }
      ]
    }
  ]
}