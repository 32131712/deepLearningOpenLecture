{
  "nbformat": 4,
  "nbformat_minor": 0,
  "metadata": {
    "colab": {
      "name": "deep_learning_turkey.ipynb",
      "version": "0.3.2",
      "provenance": [],
      "collapsed_sections": []
    },
    "kernelspec": {
      "name": "python3",
      "display_name": "Python 3"
    },
    "accelerator": "GPU"
  },
  "cells": [
    {
      "cell_type": "markdown",
      "metadata": {
        "id": "view-in-github",
        "colab_type": "text"
      },
      "source": [
        "[View in Colaboratory](https://colab.research.google.com/github/eventia/deepLearningOpenLecture/blob/master/deep_learning_turkey.ipynb)"
      ]
    },
    {
      "metadata": {
        "id": "GrAXtZQ_qhm5",
        "colab_type": "text"
      },
      "cell_type": "markdown",
      "source": [
        "### Colaboratory 를 이용한 GPU 딥러닝\n",
        "* 수정 >> 노트설정\n",
        ">* python3\n",
        ">* GPU\n",
        "\n",
        "* LINK : https://medium.com/deep-learning-turkey/google-colab-free-gpu-tutorial-e113627b9f5d"
      ]
    },
    {
      "metadata": {
        "id": "zrvIjIzpqYeA",
        "colab_type": "code",
        "colab": {
          "base_uri": "https://localhost:8080/",
          "height": 109
        },
        "outputId": "ace8c996-88f0-4081-ff71-42c2fa5c6747"
      },
      "cell_type": "code",
      "source": [
        "!apt-get install -y -qq software-properties-common python-software-properties module-init-tools\n",
        "!add-apt-repository -y ppa:alessandro-strada/ppa 2>&1 > /dev/null\n",
        "!apt-get update -qq 2>&1 > /dev/null\n",
        "!apt-get -y install -qq google-drive-ocamlfuse fuse\n",
        "from google.colab import auth\n",
        "auth.authenticate_user()\n",
        "from oauth2client.client import GoogleCredentials\n",
        "creds = GoogleCredentials.get_application_default()\n",
        "import getpass\n",
        "!google-drive-ocamlfuse -headless -id={creds.client_id} -secret={creds.client_secret} < /dev/null 2>&1 | grep URL\n",
        "vcode = getpass.getpass()\n",
        "!echo {vcode} | google-drive-ocamlfuse -headless -id={creds.client_id} -secret={creds.client_secret}"
      ],
      "execution_count": 3,
      "outputs": [
        {
          "output_type": "stream",
          "text": [
            "Please, open the following URL in a web browser: https://accounts.google.com/o/oauth2/auth?client_id=32555940559.apps.googleusercontent.com&redirect_uri=urn%3Aietf%3Awg%3Aoauth%3A2.0%3Aoob&scope=https%3A%2F%2Fwww.googleapis.com%2Fauth%2Fdrive&response_type=code&access_type=offline&approval_prompt=force\r\n",
            "··········\n",
            "Please, open the following URL in a web browser: https://accounts.google.com/o/oauth2/auth?client_id=32555940559.apps.googleusercontent.com&redirect_uri=urn%3Aietf%3Awg%3Aoauth%3A2.0%3Aoob&scope=https%3A%2F%2Fwww.googleapis.com%2Fauth%2Fdrive&response_type=code&access_type=offline&approval_prompt=force\n",
            "Please enter the verification code: Access token retrieved correctly.\n"
          ],
          "name": "stdout"
        }
      ]
    },
    {
      "metadata": {
        "id": "bu0JBaK3rmJt",
        "colab_type": "code",
        "colab": {}
      },
      "cell_type": "code",
      "source": [
        "!mkdir -p drive\n",
        "!google-drive-ocamlfuse drive"
      ],
      "execution_count": 0,
      "outputs": []
    },
    {
      "metadata": {
        "id": "7AtOAYiUrrTs",
        "colab_type": "code",
        "colab": {}
      },
      "cell_type": "code",
      "source": [
        "!pip install -q keras"
      ],
      "execution_count": 0,
      "outputs": []
    },
    {
      "metadata": {
        "id": "BdTOZC2ZrznX",
        "colab_type": "code",
        "colab": {
          "base_uri": "https://localhost:8080/",
          "height": 793
        },
        "outputId": "96fe6b1e-e8c6-480f-fd95-89e688660015"
      },
      "cell_type": "code",
      "source": [
        "!python3 drive/app/mnist_cnn.py"
      ],
      "execution_count": 6,
      "outputs": [
        {
          "output_type": "stream",
          "text": [
            "/usr/local/lib/python3.6/dist-packages/h5py/__init__.py:36: FutureWarning: Conversion of the second argument of issubdtype from `float` to `np.floating` is deprecated. In future, it will be treated as `np.float64 == np.dtype(float).type`.\r\n",
            "  from ._conv import register_converters as _register_converters\n",
            "Using TensorFlow backend.\n",
            "Downloading data from https://s3.amazonaws.com/img-datasets/mnist.npz\n",
            "11493376/11490434 [==============================] - 0s 0us/step\n",
            "x_train shape: (60000, 28, 28, 1)\n",
            "60000 train samples\n",
            "10000 test samples\n",
            "Train on 60000 samples, validate on 10000 samples\n",
            "Epoch 1/12\n",
            "2018-04-12 07:08:48.609254: I tensorflow/stream_executor/cuda/cuda_gpu_executor.cc:898] successful NUMA node read from SysFS had negative value (-1), but there must be at least one NUMA node, so returning NUMA node zero\n",
            "2018-04-12 07:08:48.609766: I tensorflow/core/common_runtime/gpu/gpu_device.cc:1212] Found device 0 with properties: \n",
            "name: Tesla K80 major: 3 minor: 7 memoryClockRate(GHz): 0.8235\n",
            "pciBusID: 0000:00:04.0\n",
            "totalMemory: 11.17GiB freeMemory: 11.10GiB\n",
            "2018-04-12 07:08:48.609834: I tensorflow/core/common_runtime/gpu/gpu_device.cc:1312] Adding visible gpu devices: 0\n",
            "2018-04-12 07:08:48.973235: I tensorflow/core/common_runtime/gpu/gpu_device.cc:993] Creating TensorFlow device (/job:localhost/replica:0/task:0/device:GPU:0 with 10765 MB memory) -> physical GPU (device: 0, name: Tesla K80, pci bus id: 0000:00:04.0, compute capability: 3.7)\n",
            "19968/60000 [========>.....................] - ETA: 11s - loss: 0.4903 - acc: 0.8473"
          ],
          "name": "stdout"
        },
        {
          "output_type": "stream",
          "text": [
            "60000/60000 [==============================] - 13s 225us/step - loss: 0.2608 - acc: 0.9203 - val_loss: 0.0556 - val_acc: 0.9827\n",
            "Epoch 2/12\n",
            "60000/60000 [==============================] - 11s 190us/step - loss: 0.0896 - acc: 0.9739 - val_loss: 0.0428 - val_acc: 0.9857\n",
            "Epoch 3/12\n",
            "54784/60000 [==========================>...] - ETA: 0s - loss: 0.0658 - acc: 0.9799"
          ],
          "name": "stdout"
        },
        {
          "output_type": "stream",
          "text": [
            "60000/60000 [==============================] - 11s 190us/step - loss: 0.0654 - acc: 0.9799 - val_loss: 0.0397 - val_acc: 0.9869\n",
            "Epoch 4/12\n",
            "60000/60000 [==============================] - 11s 191us/step - loss: 0.0530 - acc: 0.9840 - val_loss: 0.0324 - val_acc: 0.9890\n",
            "Epoch 5/12\n",
            "60000/60000 [==============================] - 11s 190us/step - loss: 0.0460 - acc: 0.9857 - val_loss: 0.0311 - val_acc: 0.9904\n",
            "Epoch 6/12\n",
            " 2048/60000 [>.............................] - ETA: 10s - loss: 0.0384 - acc: 0.9863"
          ],
          "name": "stdout"
        },
        {
          "output_type": "stream",
          "text": [
            "60000/60000 [==============================] - 11s 191us/step - loss: 0.0413 - acc: 0.9874 - val_loss: 0.0283 - val_acc: 0.9910\n",
            "Epoch 7/12\n",
            "60000/60000 [==============================] - 11s 189us/step - loss: 0.0354 - acc: 0.9888 - val_loss: 0.0282 - val_acc: 0.9907\n",
            "Epoch 8/12\n",
            "50048/60000 [========================>.....] - ETA: 1s - loss: 0.0319 - acc: 0.9898"
          ],
          "name": "stdout"
        },
        {
          "output_type": "stream",
          "text": [
            "60000/60000 [==============================] - 12s 192us/step - loss: 0.0327 - acc: 0.9896 - val_loss: 0.0293 - val_acc: 0.9907\n",
            "Epoch 9/12\n",
            "60000/60000 [==============================] - 12s 192us/step - loss: 0.0312 - acc: 0.9909 - val_loss: 0.0277 - val_acc: 0.9915\n",
            "Epoch 10/12\n",
            "60000/60000 [==============================] - 11s 189us/step - loss: 0.0285 - acc: 0.9911 - val_loss: 0.0304 - val_acc: 0.9912\n",
            "Epoch 11/12\n",
            " 1664/60000 [..............................] - ETA: 10s - loss: 0.0236 - acc: 0.9898"
          ],
          "name": "stdout"
        },
        {
          "output_type": "stream",
          "text": [
            "60000/60000 [==============================] - 11s 190us/step - loss: 0.0268 - acc: 0.9917 - val_loss: 0.0284 - val_acc: 0.9911\n",
            "Epoch 12/12\n",
            "60000/60000 [==============================] - 11s 191us/step - loss: 0.0247 - acc: 0.9922 - val_loss: 0.0287 - val_acc: 0.9907\n",
            "Test loss: 0.028653967005673256\n",
            "Test accuracy: 0.9907\n"
          ],
          "name": "stdout"
        }
      ]
    }
  ]
}