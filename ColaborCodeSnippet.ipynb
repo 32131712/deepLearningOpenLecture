{
  "nbformat": 4,
  "nbformat_minor": 0,
  "metadata": {
    "colab": {
      "name": "ColaborCodeSnippet",
      "version": "0.3.2",
      "provenance": [],
      "collapsed_sections": [],
      "toc_visible": true
    },
    "kernelspec": {
      "display_name": "Python 3",
      "name": "python3"
    }
  },
  "cells": [
    {
      "cell_type": "markdown",
      "metadata": {
        "id": "view-in-github",
        "colab_type": "text"
      },
      "source": [
        "[View in Colaboratory](https://colab.research.google.com/github/eventia/deepLearningOpenLecture/blob/master/ColaborCodeSnippet.ipynb)"
      ]
    },
    {
      "metadata": {
        "id": "Hqr-bQHqsDgf",
        "colab_type": "text"
      },
      "cell_type": "markdown",
      "source": [
        "## CodeSnippet 으로 살펴보는 Colaboratory Google"
      ]
    },
    {
      "metadata": {
        "id": "TAVmxYZasN6X",
        "colab_type": "text"
      },
      "cell_type": "markdown",
      "source": [
        "### Downloading files or importing data from Google Drive"
      ]
    },
    {
      "metadata": {
        "id": "OBwcYj27wOFY",
        "colab_type": "code",
        "colab": {}
      },
      "cell_type": "code",
      "source": [
        "# Install the PyDrive wrapper & import libraries.\n",
        "# This only needs to be done once per notebook.\n",
        "!pip install -U -q PyDrive\n",
        "from pydrive.auth import GoogleAuth\n",
        "from pydrive.drive import GoogleDrive\n",
        "from google.colab import auth\n",
        "from oauth2client.client import GoogleCredentials\n",
        "\n",
        "# Authenticate and create the PyDrive client.\n",
        "# This only needs to be done once per notebook.\n",
        "auth.authenticate_user()\n",
        "gauth = GoogleAuth()\n",
        "gauth.credentials = GoogleCredentials.get_application_default()\n",
        "drive = GoogleDrive(gauth)\n"
      ],
      "execution_count": 0,
      "outputs": []
    },
    {
      "metadata": {
        "id": "gNJF_-JrwSOZ",
        "colab_type": "code",
        "colab": {
          "base_uri": "https://localhost:8080/",
          "height": 35
        },
        "outputId": "47d0fc25-8edc-4447-ea41-3bd67667ca59"
      },
      "cell_type": "code",
      "source": [
        "# Download a file based on its file ID.\n",
        "#\n",
        "# A file ID looks like: laggVyWshwcyP6kEI-y_W3P8D26sz\n",
        "file_id = '14S_ho5ZdYvWOa3ss_FRCP67gh05g7yeK'\n",
        "downloaded = drive.CreateFile({'id': file_id})\n",
        "print('Downloaded content \"{}\"'.format(downloaded.GetContentString()))"
      ],
      "execution_count": 7,
      "outputs": [
        {
          "output_type": "stream",
          "text": [
            "Downloaded content \"TEST 1 LINE\"\n"
          ],
          "name": "stdout"
        }
      ]
    },
    {
      "metadata": {
        "id": "SyR_i3coxqwK",
        "colab_type": "code",
        "colab": {
          "base_uri": "https://localhost:8080/",
          "height": 269
        },
        "outputId": "f0e2cc04-2dec-4b46-857e-eff190a03004"
      },
      "cell_type": "code",
      "source": [
        "!apt-get update "
      ],
      "execution_count": 8,
      "outputs": [
        {
          "output_type": "stream",
          "text": [
            "Hit:1 http://archive.ubuntu.com/ubuntu artful InRelease\n",
            "Get:2 http://archive.ubuntu.com/ubuntu artful-updates InRelease [81.7 kB]\n",
            "Get:3 http://archive.ubuntu.com/ubuntu artful-backports InRelease [72.2 kB]\n",
            "Get:4 http://security.ubuntu.com/ubuntu artful-security InRelease [78.6 kB]\n",
            "Get:5 http://archive.ubuntu.com/ubuntu artful-updates/universe Sources [37.7 kB]\n",
            "Get:6 http://archive.ubuntu.com/ubuntu artful-updates/multiverse amd64 Packages [4,381 B]\n",
            "Get:7 http://archive.ubuntu.com/ubuntu artful-updates/main amd64 Packages [306 kB]\n",
            "Get:8 http://archive.ubuntu.com/ubuntu artful-updates/universe amd64 Packages [131 kB]\n",
            "Get:9 http://archive.ubuntu.com/ubuntu artful-backports/universe amd64 Packages [4,130 B]\n",
            "Get:10 http://security.ubuntu.com/ubuntu artful-security/universe Sources [17.3 kB]\n",
            "Get:11 http://security.ubuntu.com/ubuntu artful-security/main amd64 Packages [188 kB]\n",
            "Get:12 http://security.ubuntu.com/ubuntu artful-security/universe amd64 Packages [72.3 kB]\n",
            "Fetched 993 kB in 2s (386 kB/s)\n",
            "Reading package lists... Done\n"
          ],
          "name": "stdout"
        }
      ]
    },
    {
      "metadata": {
        "id": "2MBy-6hExzIA",
        "colab_type": "code",
        "colab": {
          "base_uri": "https://localhost:8080/",
          "height": 1097
        },
        "outputId": "ae3bf6af-d9d9-4cb1-eba5-7cadfec5d571"
      },
      "cell_type": "code",
      "source": [
        "!apt-get upgrade"
      ],
      "execution_count": 9,
      "outputs": [
        {
          "output_type": "stream",
          "text": [
            "Reading package lists... Done\n",
            "Building dependency tree       \n",
            "Reading state information... Done\n",
            "Calculating upgrade... Done\n",
            "The following packages will be upgraded:\n",
            "  curl icu-devtools libcurl3 libcurl3-gnutls libicu-dev libicu57 libssl1.0.0\n",
            "  libsystemd0 libudev1 linux-libc-dev openssl\n",
            "11 upgraded, 0 newly installed, 0 to remove and 0 not upgraded.\n",
            "Need to get 27.8 MB of archives.\n",
            "After this operation, 14.3 kB of additional disk space will be used.\n",
            "Get:1 http://archive.ubuntu.com/ubuntu artful-updates/main amd64 libsystemd0 amd64 234-2ubuntu12.3 [209 kB]\n",
            "Get:2 http://archive.ubuntu.com/ubuntu artful-updates/main amd64 libudev1 amd64 234-2ubuntu12.3 [52.4 kB]\n",
            "Get:3 http://archive.ubuntu.com/ubuntu artful-updates/main amd64 libicu-dev amd64 57.1-6ubuntu0.3 [16.6 MB]\n",
            "Get:4 http://archive.ubuntu.com/ubuntu artful-updates/main amd64 icu-devtools amd64 57.1-6ubuntu0.3 [169 kB]\n",
            "Get:5 http://archive.ubuntu.com/ubuntu artful-updates/main amd64 libicu57 amd64 57.1-6ubuntu0.3 [7,691 kB]\n",
            "Get:6 http://archive.ubuntu.com/ubuntu artful-updates/main amd64 libssl1.0.0 amd64 1.0.2g-1ubuntu13.4 [1,086 kB]\n",
            "Get:7 http://archive.ubuntu.com/ubuntu artful-updates/main amd64 openssl amd64 1.0.2g-1ubuntu13.4 [496 kB]\n",
            "Get:8 http://archive.ubuntu.com/ubuntu artful-updates/main amd64 curl amd64 7.55.1-1ubuntu2.4 [152 kB]\n",
            "Get:9 http://archive.ubuntu.com/ubuntu artful-updates/main amd64 libcurl3 amd64 7.55.1-1ubuntu2.4 [196 kB]\n",
            "Get:10 http://archive.ubuntu.com/ubuntu artful-updates/main amd64 libcurl3-gnutls amd64 7.55.1-1ubuntu2.4 [193 kB]\n",
            "Get:11 http://archive.ubuntu.com/ubuntu artful-updates/main amd64 linux-libc-dev amd64 4.13.0-38.43 [958 kB]\n",
            "Fetched 27.8 MB in 6s (4,172 kB/s)\n",
            "Preconfiguring packages ...\n",
            "(Reading database ... 16712 files and directories currently installed.)\n",
            "Preparing to unpack .../libsystemd0_234-2ubuntu12.3_amd64.deb ...\n",
            "Unpacking libsystemd0:amd64 (234-2ubuntu12.3) over (234-2ubuntu12.1) ...\n",
            "Setting up libsystemd0:amd64 (234-2ubuntu12.3) ...\n",
            "(Reading database ... 16712 files and directories currently installed.)\n",
            "Preparing to unpack .../libudev1_234-2ubuntu12.3_amd64.deb ...\n",
            "Unpacking libudev1:amd64 (234-2ubuntu12.3) over (234-2ubuntu12.1) ...\n",
            "Setting up libudev1:amd64 (234-2ubuntu12.3) ...\n",
            "(Reading database ... 16712 files and directories currently installed.)\n",
            "Preparing to unpack .../0-libicu-dev_57.1-6ubuntu0.3_amd64.deb ...\n",
            "Unpacking libicu-dev (57.1-6ubuntu0.3) over (57.1-6ubuntu0.2) ...\n",
            "Preparing to unpack .../1-icu-devtools_57.1-6ubuntu0.3_amd64.deb ...\n",
            "Unpacking icu-devtools (57.1-6ubuntu0.3) over (57.1-6ubuntu0.2) ...\n",
            "Preparing to unpack .../2-libicu57_57.1-6ubuntu0.3_amd64.deb ...\n",
            "Unpacking libicu57:amd64 (57.1-6ubuntu0.3) over (57.1-6ubuntu0.2) ...\n",
            "Preparing to unpack .../3-libssl1.0.0_1.0.2g-1ubuntu13.4_amd64.deb ...\n",
            "Unpacking libssl1.0.0:amd64 (1.0.2g-1ubuntu13.4) over (1.0.2g-1ubuntu13.3) ...\n",
            "Preparing to unpack .../4-openssl_1.0.2g-1ubuntu13.4_amd64.deb ...\n",
            "Unpacking openssl (1.0.2g-1ubuntu13.4) over (1.0.2g-1ubuntu13.3) ...\n",
            "Preparing to unpack .../5-curl_7.55.1-1ubuntu2.4_amd64.deb ...\n",
            "Unpacking curl (7.55.1-1ubuntu2.4) over (7.55.1-1ubuntu2.3) ...\n",
            "Preparing to unpack .../6-libcurl3_7.55.1-1ubuntu2.4_amd64.deb ...\n",
            "Unpacking libcurl3:amd64 (7.55.1-1ubuntu2.4) over (7.55.1-1ubuntu2.3) ...\n",
            "Preparing to unpack .../7-libcurl3-gnutls_7.55.1-1ubuntu2.4_amd64.deb ...\n",
            "Unpacking libcurl3-gnutls:amd64 (7.55.1-1ubuntu2.4) over (7.55.1-1ubuntu2.3) ...\n",
            "Preparing to unpack .../8-linux-libc-dev_4.13.0-38.43_amd64.deb ...\n",
            "Unpacking linux-libc-dev:amd64 (4.13.0-38.43) over (4.13.0-36.40) ...\n",
            "Setting up libssl1.0.0:amd64 (1.0.2g-1ubuntu13.4) ...\n",
            "Setting up libcurl3:amd64 (7.55.1-1ubuntu2.4) ...\n",
            "Setting up libcurl3-gnutls:amd64 (7.55.1-1ubuntu2.4) ...\n",
            "Setting up linux-libc-dev:amd64 (4.13.0-38.43) ...\n",
            "Setting up libicu57:amd64 (57.1-6ubuntu0.3) ...\n",
            "Processing triggers for libc-bin (2.26-0ubuntu2.1) ...\n",
            "Setting up openssl (1.0.2g-1ubuntu13.4) ...\n",
            "Setting up icu-devtools (57.1-6ubuntu0.3) ...\n",
            "Setting up curl (7.55.1-1ubuntu2.4) ...\n",
            "Setting up libicu-dev (57.1-6ubuntu0.3) ...\n"
          ],
          "name": "stdout"
        }
      ]
    },
    {
      "metadata": {
        "id": "I59LKn2y5JyO",
        "colab_type": "text"
      },
      "cell_type": "markdown",
      "source": [
        "### 2018-04-11 업데이트 진행"
      ]
    },
    {
      "metadata": {
        "id": "YgE1c2X9x061",
        "colab_type": "code",
        "colab": {
          "base_uri": "https://localhost:8080/",
          "height": 287
        },
        "outputId": "648f7321-3240-4375-df1a-58420bbb642e"
      },
      "cell_type": "code",
      "source": [
        "!apt-get update "
      ],
      "execution_count": 1,
      "outputs": [
        {
          "output_type": "stream",
          "text": [
            "Hit:1 http://archive.ubuntu.com/ubuntu artful InRelease\n",
            "Get:2 http://archive.ubuntu.com/ubuntu artful-updates InRelease [81.7 kB]\n",
            "Get:3 http://archive.ubuntu.com/ubuntu artful-backports InRelease [72.2 kB]\n",
            "Get:4 http://archive.ubuntu.com/ubuntu artful-updates/universe Sources [37.7 kB]\n",
            "Get:5 http://archive.ubuntu.com/ubuntu artful-updates/multiverse amd64 Packages [4,384 B]\n",
            "Get:6 http://archive.ubuntu.com/ubuntu artful-updates/universe amd64 Packages [131 kB]\n",
            "Get:7 http://archive.ubuntu.com/ubuntu artful-updates/main amd64 Packages [306 kB]\n",
            "Get:8 http://archive.ubuntu.com/ubuntu artful-backports/universe amd64 Packages [4,130 B]\n",
            "Get:9 http://security.ubuntu.com/ubuntu artful-security InRelease [78.6 kB]\n",
            "Get:10 http://security.ubuntu.com/ubuntu artful-security/universe Sources [17.3 kB]\n",
            "Get:11 http://security.ubuntu.com/ubuntu artful-security/multiverse amd64 Packages [1,826 B]\n",
            "Get:12 http://security.ubuntu.com/ubuntu artful-security/universe amd64 Packages [72.3 kB]\n",
            "Get:13 http://security.ubuntu.com/ubuntu artful-security/main amd64 Packages [188 kB]\n",
            "Fetched 996 kB in 4s (238 kB/s)\n",
            "Reading package lists... Done\n"
          ],
          "name": "stdout"
        }
      ]
    },
    {
      "metadata": {
        "id": "IcS9Z7xGy5Kh",
        "colab_type": "code",
        "colab": {
          "base_uri": "https://localhost:8080/",
          "height": 1169
        },
        "outputId": "df938bbe-0a9e-4dc7-9a24-c5c62fb1346f"
      },
      "cell_type": "code",
      "source": [
        "!apt-get upgrade"
      ],
      "execution_count": 2,
      "outputs": [
        {
          "output_type": "stream",
          "text": [
            "Reading package lists... Done\n",
            "Building dependency tree       \n",
            "Reading state information... Done\n",
            "Calculating upgrade... Done\n",
            "The following packages will be upgraded:\n",
            "  curl icu-devtools libcurl3 libcurl3-gnutls libicu-dev libicu57 libssl1.0.0\n",
            "  libsystemd0 libudev1 linux-libc-dev openssl patch\n",
            "12 upgraded, 0 newly installed, 0 to remove and 0 not upgraded.\n",
            "Need to get 27.9 MB of archives.\n",
            "After this operation, 14.3 kB of additional disk space will be used.\n",
            "Get:1 http://archive.ubuntu.com/ubuntu artful-updates/main amd64 libsystemd0 amd64 234-2ubuntu12.3 [209 kB]\n",
            "Get:2 http://archive.ubuntu.com/ubuntu artful-updates/main amd64 libudev1 amd64 234-2ubuntu12.3 [52.4 kB]\n",
            "Get:3 http://archive.ubuntu.com/ubuntu artful-updates/main amd64 libicu-dev amd64 57.1-6ubuntu0.3 [16.6 MB]\n",
            "Get:4 http://archive.ubuntu.com/ubuntu artful-updates/main amd64 icu-devtools amd64 57.1-6ubuntu0.3 [169 kB]\n",
            "Get:5 http://archive.ubuntu.com/ubuntu artful-updates/main amd64 libicu57 amd64 57.1-6ubuntu0.3 [7,691 kB]\n",
            "Get:6 http://archive.ubuntu.com/ubuntu artful-updates/main amd64 libssl1.0.0 amd64 1.0.2g-1ubuntu13.4 [1,086 kB]\n",
            "Get:7 http://archive.ubuntu.com/ubuntu artful-updates/main amd64 openssl amd64 1.0.2g-1ubuntu13.4 [496 kB]\n",
            "Get:8 http://archive.ubuntu.com/ubuntu artful-updates/main amd64 curl amd64 7.55.1-1ubuntu2.4 [152 kB]\n",
            "Get:9 http://archive.ubuntu.com/ubuntu artful-updates/main amd64 libcurl3 amd64 7.55.1-1ubuntu2.4 [196 kB]\n",
            "Get:10 http://archive.ubuntu.com/ubuntu artful-updates/main amd64 libcurl3-gnutls amd64 7.55.1-1ubuntu2.4 [193 kB]\n",
            "Get:11 http://archive.ubuntu.com/ubuntu artful-updates/main amd64 linux-libc-dev amd64 4.13.0-38.43 [958 kB]\n",
            "Get:12 http://archive.ubuntu.com/ubuntu artful-updates/main amd64 patch amd64 2.7.5-1ubuntu0.2 [93.1 kB]\n",
            "Fetched 27.9 MB in 1s (15.7 MB/s)\n",
            "Preconfiguring packages ...\n",
            "(Reading database ... 16712 files and directories currently installed.)\n",
            "Preparing to unpack .../libsystemd0_234-2ubuntu12.3_amd64.deb ...\n",
            "Unpacking libsystemd0:amd64 (234-2ubuntu12.3) over (234-2ubuntu12.1) ...\n",
            "Setting up libsystemd0:amd64 (234-2ubuntu12.3) ...\n",
            "(Reading database ... 16712 files and directories currently installed.)\n",
            "Preparing to unpack .../libudev1_234-2ubuntu12.3_amd64.deb ...\n",
            "Unpacking libudev1:amd64 (234-2ubuntu12.3) over (234-2ubuntu12.1) ...\n",
            "Setting up libudev1:amd64 (234-2ubuntu12.3) ...\n",
            "(Reading database ... 16712 files and directories currently installed.)\n",
            "Preparing to unpack .../0-libicu-dev_57.1-6ubuntu0.3_amd64.deb ...\n",
            "Unpacking libicu-dev (57.1-6ubuntu0.3) over (57.1-6ubuntu0.2) ...\n",
            "Preparing to unpack .../1-icu-devtools_57.1-6ubuntu0.3_amd64.deb ...\n",
            "Unpacking icu-devtools (57.1-6ubuntu0.3) over (57.1-6ubuntu0.2) ...\n",
            "Preparing to unpack .../2-libicu57_57.1-6ubuntu0.3_amd64.deb ...\n",
            "Unpacking libicu57:amd64 (57.1-6ubuntu0.3) over (57.1-6ubuntu0.2) ...\n",
            "Preparing to unpack .../3-libssl1.0.0_1.0.2g-1ubuntu13.4_amd64.deb ...\n",
            "Unpacking libssl1.0.0:amd64 (1.0.2g-1ubuntu13.4) over (1.0.2g-1ubuntu13.3) ...\n",
            "Preparing to unpack .../4-openssl_1.0.2g-1ubuntu13.4_amd64.deb ...\n",
            "Unpacking openssl (1.0.2g-1ubuntu13.4) over (1.0.2g-1ubuntu13.3) ...\n",
            "Preparing to unpack .../5-curl_7.55.1-1ubuntu2.4_amd64.deb ...\n",
            "Unpacking curl (7.55.1-1ubuntu2.4) over (7.55.1-1ubuntu2.3) ...\n",
            "Preparing to unpack .../6-libcurl3_7.55.1-1ubuntu2.4_amd64.deb ...\n",
            "Unpacking libcurl3:amd64 (7.55.1-1ubuntu2.4) over (7.55.1-1ubuntu2.3) ...\n",
            "Preparing to unpack .../7-libcurl3-gnutls_7.55.1-1ubuntu2.4_amd64.deb ...\n",
            "Unpacking libcurl3-gnutls:amd64 (7.55.1-1ubuntu2.4) over (7.55.1-1ubuntu2.3) ...\n",
            "Preparing to unpack .../8-linux-libc-dev_4.13.0-38.43_amd64.deb ...\n",
            "Unpacking linux-libc-dev:amd64 (4.13.0-38.43) over (4.13.0-36.40) ...\n",
            "Preparing to unpack .../9-patch_2.7.5-1ubuntu0.2_amd64.deb ...\n",
            "Unpacking patch (2.7.5-1ubuntu0.2) over (2.7.5-1build1) ...\n",
            "Setting up libssl1.0.0:amd64 (1.0.2g-1ubuntu13.4) ...\n",
            "Setting up libcurl3:amd64 (7.55.1-1ubuntu2.4) ...\n",
            "Setting up libcurl3-gnutls:amd64 (7.55.1-1ubuntu2.4) ...\n",
            "Setting up linux-libc-dev:amd64 (4.13.0-38.43) ...\n",
            "Setting up libicu57:amd64 (57.1-6ubuntu0.3) ...\n",
            "Setting up patch (2.7.5-1ubuntu0.2) ...\n",
            "Processing triggers for libc-bin (2.26-0ubuntu2.1) ...\n",
            "Setting up openssl (1.0.2g-1ubuntu13.4) ...\n",
            "Setting up icu-devtools (57.1-6ubuntu0.3) ...\n",
            "Setting up curl (7.55.1-1ubuntu2.4) ...\n",
            "Setting up libicu-dev (57.1-6ubuntu0.3) ...\n"
          ],
          "name": "stdout"
        }
      ]
    }
  ]
}