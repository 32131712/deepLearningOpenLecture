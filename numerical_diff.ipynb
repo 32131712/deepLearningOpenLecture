{
  "nbformat": 4,
  "nbformat_minor": 0,
  "metadata": {
    "colab": {
      "name": "numerical_diff.ipynb",
      "version": "0.3.2",
      "provenance": [],
      "collapsed_sections": []
    },
    "kernelspec": {
      "name": "python3",
      "display_name": "Python 3"
    }
  },
  "cells": [
    {
      "cell_type": "markdown",
      "metadata": {
        "id": "view-in-github",
        "colab_type": "text"
      },
      "source": [
        "[View in Colaboratory](https://colab.research.google.com/github/eventia/deepLearningOpenLecture/blob/master/numerical_diff.ipynb)"
      ]
    },
    {
      "metadata": {
        "id": "2LVZfhVol7ss",
        "colab_type": "text"
      },
      "cell_type": "markdown",
      "source": [
        "### 수치미분"
      ]
    },
    {
      "metadata": {
        "id": "SaKWCzfnl4SQ",
        "colab_type": "code",
        "colab": {}
      },
      "cell_type": "code",
      "source": [
        "# 잘못된 수치미분 코드의 예\n",
        "# h 값이 지나치게 작음 (프로그램에서 처리하기 곤란)\n",
        "\n",
        "def numerical_diff_nu(f,x):\n",
        "  h = 1e-50\n",
        "  return (f(x+h)-f(x))/h"
      ],
      "execution_count": 0,
      "outputs": []
    },
    {
      "metadata": {
        "id": "-2BkVYd8maSj",
        "colab_type": "code",
        "colab": {}
      },
      "cell_type": "code",
      "source": [
        "# 수치미분 코드\n",
        "# h 값을 프로그램에서 처리할 수 있을 정도로 크게하고\n",
        "# 에러보정을 위해 f(x+h) - f(x-h) / 2h 를 사용\n",
        "\n",
        "def numerical_diff(f,x):\n",
        "  h = 1e-4\n",
        "  return (f(x+h)-f(x-h))/(2*h)"
      ],
      "execution_count": 0,
      "outputs": []
    },
    {
      "metadata": {
        "id": "2D5SznHgAYNv",
        "colab_type": "text"
      },
      "cell_type": "markdown",
      "source": [
        "이차함수 \n",
        "---\n",
        "\n",
        "y = 0.01x^2 + 0.1x \n",
        "\n",
        "\n",
        "\n"
      ]
    },
    {
      "metadata": {
        "id": "XwcojtD1AbRz",
        "colab_type": "code",
        "colab": {}
      },
      "cell_type": "code",
      "source": [
        "def function_1(x):\n",
        "  return 0.01*x**2 + 0.1*x"
      ],
      "execution_count": 0,
      "outputs": []
    }
  ]
}