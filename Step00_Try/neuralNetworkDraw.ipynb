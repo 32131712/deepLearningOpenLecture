{
 "cells": [
  {
   "cell_type": "code",
   "execution_count": 17,
   "metadata": {},
   "outputs": [],
   "source": [
    "from turtle import *"
   ]
  },
  {
   "cell_type": "code",
   "execution_count": 33,
   "metadata": {},
   "outputs": [],
   "source": [
    "from turtle import *\n",
    "# shape(\"turtle\")\n",
    "\n",
    "x_init, y_init = -400, 400\n",
    "\n",
    "penup()\n",
    "setpos(x_init,y_init)\n",
    "speed(10)\n",
    "\n",
    "\n",
    "penup()\n",
    "goto(x_init,y_init-30)\n",
    "pendown()\n",
    "circle(10,steps=4)\n",
    "goto(x_init,y_init-30+10)\n",
    "goto(x_init+200,y_init-30+10)\n",
    "goto(x_init,y_init)\n",
    "\n",
    "penup()\n",
    "goto(x_init,y_init-60)\n",
    "pendown()\n",
    "circle(10,steps=4)\n",
    "\n",
    "penup()\n",
    "goto(x_init,y_init-90)\n",
    "pendown()\n",
    "circle(10,steps=4)\n",
    "\n",
    "done()\n"
   ]
  },
  {
   "cell_type": "code",
   "execution_count": null,
   "metadata": {},
   "outputs": [],
   "source": []
  },
  {
   "cell_type": "code",
   "execution_count": null,
   "metadata": {},
   "outputs": [],
   "source": []
  },
  {
   "cell_type": "code",
   "execution_count": null,
   "metadata": {},
   "outputs": [],
   "source": []
  },
  {
   "cell_type": "code",
   "execution_count": null,
   "metadata": {},
   "outputs": [],
   "source": []
  },
  {
   "cell_type": "code",
   "execution_count": null,
   "metadata": {},
   "outputs": [],
   "source": []
  },
  {
   "cell_type": "code",
   "execution_count": null,
   "metadata": {},
   "outputs": [],
   "source": []
  },
  {
   "cell_type": "code",
   "execution_count": null,
   "metadata": {},
   "outputs": [],
   "source": []
  },
  {
   "cell_type": "code",
   "execution_count": null,
   "metadata": {},
   "outputs": [],
   "source": []
  }
 ],
 "metadata": {
  "kernelspec": {
   "display_name": "Python 3",
   "language": "python",
   "name": "python3"
  },
  "language_info": {
   "codemirror_mode": {
    "name": "ipython",
    "version": 3
   },
   "file_extension": ".py",
   "mimetype": "text/x-python",
   "name": "python",
   "nbconvert_exporter": "python",
   "pygments_lexer": "ipython3",
   "version": "3.6.2"
  }
 },
 "nbformat": 4,
 "nbformat_minor": 2
}
