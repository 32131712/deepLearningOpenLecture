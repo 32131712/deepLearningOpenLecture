{
 "cells": [
  {
   "cell_type": "code",
   "execution_count": 14,
   "metadata": {},
   "outputs": [],
   "source": [
    "import numpy as np\n",
    "import matplotlib.pyplot as plt"
   ]
  },
  {
   "cell_type": "markdown",
   "metadata": {},
   "source": [
    "#### 2018-03-20 \n",
    "#### 경기일보의 여론조사결과 그래프 분석"
   ]
  },
  {
   "cell_type": "code",
   "execution_count": 15,
   "metadata": {},
   "outputs": [],
   "source": [
    "# 다자간구도\n",
    "# 이재정 27.5, 송주명 7.5, 정진후 6.8, 배종수 5.2\n"
   ]
  },
  {
   "cell_type": "code",
   "execution_count": 16,
   "metadata": {},
   "outputs": [],
   "source": [
    "lee  = .275\n",
    "song = .075\n",
    "jung = .068\n",
    "bae  = .052"
   ]
  },
  {
   "cell_type": "code",
   "execution_count": 17,
   "metadata": {},
   "outputs": [],
   "source": [
    "no = .177\n",
    "nan = .185"
   ]
  },
  {
   "cell_type": "code",
   "execution_count": 56,
   "metadata": {},
   "outputs": [],
   "source": [
    "cand ={\n",
    "    'lee'  : .275 ,\n",
    "    'song' : .075 ,\n",
    "    'jung' : .068 ,\n",
    "    'bae'  : .052 , \n",
    "    \n",
    "    'goo'  : .036 ,\n",
    "    'lim'  : .033 ,\n",
    "    'lsd'  : .028 ,\n",
    "\n",
    "    'no'   : .177 ,\n",
    "    'nan'  : .185 ,\n",
    "    \n",
    "    'etc'  : .07\n",
    "}"
   ]
  },
  {
   "cell_type": "code",
   "execution_count": 57,
   "metadata": {},
   "outputs": [
    {
     "name": "stdout",
     "output_type": "stream",
     "text": [
      "dict_keys(['lee', 'song', 'jung', 'bae', 'goo', 'lim', 'lsd', 'no', 'nan', 'etc'])\n"
     ]
    }
   ],
   "source": [
    "print((cand.keys()))"
   ]
  },
  {
   "cell_type": "code",
   "execution_count": 58,
   "metadata": {},
   "outputs": [],
   "source": [
    "sum = 0.0\n",
    "for key in cand.keys():\n",
    "    sum+=cand[key]"
   ]
  },
  {
   "cell_type": "code",
   "execution_count": 59,
   "metadata": {},
   "outputs": [
    {
     "name": "stdout",
     "output_type": "stream",
     "text": [
      "0.9990000000000001\n"
     ]
    }
   ],
   "source": [
    "print(sum)"
   ]
  },
  {
   "cell_type": "code",
   "execution_count": null,
   "metadata": {},
   "outputs": [],
   "source": []
  }
 ],
 "metadata": {
  "kernelspec": {
   "display_name": "Python 3",
   "language": "python",
   "name": "python3"
  },
  "language_info": {
   "codemirror_mode": {
    "name": "ipython",
    "version": 3
   },
   "file_extension": ".py",
   "mimetype": "text/x-python",
   "name": "python",
   "nbconvert_exporter": "python",
   "pygments_lexer": "ipython3",
   "version": "3.6.2"
  }
 },
 "nbformat": 4,
 "nbformat_minor": 2
}
