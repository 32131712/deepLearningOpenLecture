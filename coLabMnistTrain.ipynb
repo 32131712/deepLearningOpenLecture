{
  "nbformat": 4,
  "nbformat_minor": 0,
  "metadata": {
    "colab": {
      "name": "coLabMnistTrain",
      "version": "0.3.2",
      "provenance": [],
      "collapsed_sections": []
    },
    "kernelspec": {
      "display_name": "Python 3",
      "name": "python3"
    }
  },
  "cells": [
    {
      "cell_type": "markdown",
      "metadata": {
        "id": "view-in-github",
        "colab_type": "text"
      },
      "source": [
        "[View in Colaboratory](https://colab.research.google.com/github/eventia/deepLearningOpenLecture/blob/master/coLabMnistTrain.ipynb)"
      ]
    },
    {
      "metadata": {
        "id": "EjBYeIsH22Jb",
        "colab_type": "text"
      },
      "cell_type": "markdown",
      "source": [
        "## CoLaboratory 이용한 MNIST 학습"
      ]
    },
    {
      "metadata": {
        "id": "UheqQvhJphsl",
        "colab_type": "code",
        "colab": {
          "base_uri": "https://localhost:8080/",
          "height": 109
        },
        "outputId": "2769c487-9f3b-4763-c420-641ccfc34c7b"
      },
      "cell_type": "code",
      "source": [
        "!apt-get install -y -qq software-properties-common python-software-properties module-init-tools\n",
        "!add-apt-repository -y ppa:alessandro-strada/ppa 2>&1 > /dev/null\n",
        "!apt-get update -qq 2>&1 > /dev/null\n",
        "!apt-get -y install -qq google-drive-ocamlfuse fuse\n",
        "from google.colab import auth\n",
        "auth.authenticate_user()\n",
        "from oauth2client.client import GoogleCredentials\n",
        "creds = GoogleCredentials.get_application_default()\n",
        "import getpass\n",
        "!google-drive-ocamlfuse -headless -id={creds.client_id} -secret={creds.client_secret} < /dev/null 2>&1 | grep URL\n",
        "vcode = getpass.getpass()\n",
        "!echo {vcode} | google-drive-ocamlfuse -headless -id={creds.client_id} -secret={creds.client_secret}"
      ],
      "execution_count": 0,
      "outputs": [
        {
          "output_type": "stream",
          "text": [
            "Please, open the following URL in a web browser: https://accounts.google.com/o/oauth2/auth?client_id=32555940559.apps.googleusercontent.com&redirect_uri=urn%3Aietf%3Awg%3Aoauth%3A2.0%3Aoob&scope=https%3A%2F%2Fwww.googleapis.com%2Fauth%2Fdrive&response_type=code&access_type=offline&approval_prompt=force\r\n",
            "··········\n",
            "Please, open the following URL in a web browser: https://accounts.google.com/o/oauth2/auth?client_id=32555940559.apps.googleusercontent.com&redirect_uri=urn%3Aietf%3Awg%3Aoauth%3A2.0%3Aoob&scope=https%3A%2F%2Fwww.googleapis.com%2Fauth%2Fdrive&response_type=code&access_type=offline&approval_prompt=force\n",
            "Please enter the verification code: Access token retrieved correctly.\n"
          ],
          "name": "stdout"
        }
      ]
    },
    {
      "metadata": {
        "id": "lpnAZE6Jq0pz",
        "colab_type": "code",
        "colab": {}
      },
      "cell_type": "code",
      "source": [
        "!mkdir -p drive\n",
        "!google-drive-ocamlfuse drive\n",
        "!pip install -q keras"
      ],
      "execution_count": 0,
      "outputs": []
    },
    {
      "metadata": {
        "id": "Z8fsTZf75B-Q",
        "colab_type": "text"
      },
      "cell_type": "markdown",
      "source": [
        "### 구글 드라이브에 app 폴더 만들어 mnist_cnn.py 저장 \\\\\n",
        "https://github.com/keras-team/keras/blob/master/examples/mnist_cnn.py \\\\"
      ]
    },
    {
      "metadata": {
        "id": "0sDWYr8isCN7",
        "colab_type": "code",
        "colab": {
          "base_uri": "https://localhost:8080/",
          "height": 647
        },
        "outputId": "ea74322e-8562-4665-a0e4-65db0ba6cfba"
      },
      "cell_type": "code",
      "source": [
        "!python3 drive/app/mnist_cnn.py"
      ],
      "execution_count": 0,
      "outputs": [
        {
          "output_type": "stream",
          "text": [
            "/usr/local/lib/python3.6/dist-packages/h5py/__init__.py:36: FutureWarning: Conversion of the second argument of issubdtype from `float` to `np.floating` is deprecated. In future, it will be treated as `np.float64 == np.dtype(float).type`.\r\n",
            "  from ._conv import register_converters as _register_converters\n",
            "Using TensorFlow backend.\n",
            "Downloading data from https://s3.amazonaws.com/img-datasets/mnist.npz\n",
            "11493376/11490434 [==============================] - 1s 0us/step\n",
            "x_train shape: (60000, 28, 28, 1)\n",
            "60000 train samples\n",
            "10000 test samples\n",
            "Train on 60000 samples, validate on 10000 samples\n",
            "Epoch 1/12\n",
            "17024/60000 [=======>......................] - ETA: 2:02 - loss: 0.5850 - acc: 0.8167"
          ],
          "name": "stdout"
        },
        {
          "output_type": "stream",
          "text": [
            "60000/60000 [==============================] - 176s 3ms/step - loss: 0.2730 - acc: 0.9161 - val_loss: 0.0534 - val_acc: 0.9816\n",
            "Epoch 2/12\n",
            "40448/60000 [===================>..........] - ETA: 55s - loss: 0.0938 - acc: 0.9718"
          ],
          "name": "stdout"
        },
        {
          "output_type": "stream",
          "text": [
            "60000/60000 [==============================] - 175s 3ms/step - loss: 0.0917 - acc: 0.9724 - val_loss: 0.0392 - val_acc: 0.9864\n",
            "Epoch 3/12\n"
          ],
          "name": "stdout"
        },
        {
          "output_type": "stream",
          "text": [
            "60000/60000 [==============================] - 176s 3ms/step - loss: 0.0691 - acc: 0.9792 - val_loss: 0.0349 - val_acc: 0.9877\n",
            "Epoch 4/12\n",
            "52992/60000 [=========================>....] - ETA: 19s - loss: 0.0583 - acc: 0.9826"
          ],
          "name": "stdout"
        },
        {
          "output_type": "stream",
          "text": [
            "60000/60000 [==============================] - 176s 3ms/step - loss: 0.0581 - acc: 0.9825 - val_loss: 0.0325 - val_acc: 0.9887\n",
            "Epoch 5/12\n",
            "54144/60000 [==========================>...] - ETA: 16s - loss: 0.0478 - acc: 0.9857"
          ],
          "name": "stdout"
        },
        {
          "output_type": "stream",
          "text": [
            "60000/60000 [==============================] - 176s 3ms/step - loss: 0.0472 - acc: 0.9858 - val_loss: 0.0324 - val_acc: 0.9885\n",
            "Epoch 6/12\n",
            "54272/60000 [==========================>...] - ETA: 16s - loss: 0.0410 - acc: 0.9876"
          ],
          "name": "stdout"
        },
        {
          "output_type": "stream",
          "text": [
            "60000/60000 [==============================] - 176s 3ms/step - loss: 0.0416 - acc: 0.9871 - val_loss: 0.0275 - val_acc: 0.9907\n",
            "Epoch 7/12\n",
            "55040/60000 [==========================>...] - ETA: 14s - loss: 0.0385 - acc: 0.9881"
          ],
          "name": "stdout"
        },
        {
          "output_type": "stream",
          "text": [
            "60000/60000 [==============================] - 176s 3ms/step - loss: 0.0381 - acc: 0.9881 - val_loss: 0.0284 - val_acc: 0.9911\n",
            "Epoch 8/12\n",
            "54784/60000 [==========================>...] - ETA: 14s - loss: 0.0341 - acc: 0.9892"
          ],
          "name": "stdout"
        },
        {
          "output_type": "stream",
          "text": [
            "60000/60000 [==============================] - 176s 3ms/step - loss: 0.0341 - acc: 0.9892 - val_loss: 0.0281 - val_acc: 0.9903\n",
            "Epoch 9/12\n",
            "55168/60000 [==========================>...] - ETA: 13s - loss: 0.0321 - acc: 0.9904"
          ],
          "name": "stdout"
        },
        {
          "output_type": "stream",
          "text": [
            "60000/60000 [==============================] - 176s 3ms/step - loss: 0.0322 - acc: 0.9903 - val_loss: 0.0315 - val_acc: 0.9899\n",
            "Epoch 10/12\n",
            "54912/60000 [==========================>...] - ETA: 14s - loss: 0.0306 - acc: 0.9904"
          ],
          "name": "stdout"
        },
        {
          "output_type": "stream",
          "text": [
            "60000/60000 [==============================] - 176s 3ms/step - loss: 0.0305 - acc: 0.9904 - val_loss: 0.0278 - val_acc: 0.9906\n",
            "Epoch 11/12\n",
            "54656/60000 [==========================>...] - ETA: 15s - loss: 0.0291 - acc: 0.9910"
          ],
          "name": "stdout"
        },
        {
          "output_type": "stream",
          "text": [
            "60000/60000 [==============================] - 177s 3ms/step - loss: 0.0287 - acc: 0.9913 - val_loss: 0.0261 - val_acc: 0.9916\n",
            "Epoch 12/12\n",
            "54528/60000 [==========================>...] - ETA: 15s - loss: 0.0261 - acc: 0.9918"
          ],
          "name": "stdout"
        },
        {
          "output_type": "stream",
          "text": [
            "60000/60000 [==============================] - 176s 3ms/step - loss: 0.0263 - acc: 0.9917 - val_loss: 0.0264 - val_acc: 0.9920\n",
            "Test loss: 0.026374660374172527\n",
            "Test accuracy: 0.992\n"
          ],
          "name": "stdout"
        }
      ]
    },
    {
      "metadata": {
        "id": "uT-X56O17pGp",
        "colab_type": "text"
      },
      "cell_type": "markdown",
      "source": [
        "https://medium.com/deep-learning-turkey/google-colab-free-gpu-tutorial-e113627b9f5d\n"
      ]
    },
    {
      "metadata": {
        "id": "KO1iK96s7UrZ",
        "colab_type": "code",
        "colab": {
          "base_uri": "https://localhost:8080/",
          "height": 215
        },
        "outputId": "5b65a715-7b50-44aa-c54f-d120c9749176"
      },
      "cell_type": "code",
      "source": [
        "!wget https://raw.githubusercontent.com/vincentarelbundock/Rdatasets/master/csv/datasets/Titanic.csv -P drive/app"
      ],
      "execution_count": 1,
      "outputs": [
        {
          "output_type": "stream",
          "text": [
            "--2018-04-08 15:43:38--  https://raw.githubusercontent.com/vincentarelbundock/Rdatasets/master/csv/datasets/Titanic.csv\r\n",
            "Resolving raw.githubusercontent.com (raw.githubusercontent.com)... 151.101.0.133, 151.101.64.133, 151.101.128.133, ...\n",
            "Connecting to raw.githubusercontent.com (raw.githubusercontent.com)|151.101.0.133|:443... connected.\n",
            "HTTP request sent, awaiting response... 200 OK\n",
            "Length: 1170 (1.1K) [text/plain]\n",
            "Saving to: ‘drive/app/Titanic.csv’\n",
            "\n",
            "Titanic.csv         100%[===================>]   1.14K  --.-KB/s    in 0s      \n",
            "\n",
            "2018-04-08 15:43:40 (35.2 MB/s) - ‘drive/app/Titanic.csv’ saved [1170/1170]\n",
            "\n"
          ],
          "name": "stdout"
        }
      ]
    },
    {
      "metadata": {
        "id": "_zRtU6bi8Ve_",
        "colab_type": "code",
        "colab": {
          "base_uri": "https://localhost:8080/",
          "height": 204
        },
        "outputId": "dc8eff1a-238d-4236-fa52-5f8a21b2360c"
      },
      "cell_type": "code",
      "source": [
        "import pandas as pd\n",
        "titanic = pd.read_csv(\"drive/app/Titanic.csv\")\n",
        "titanic.head(5)"
      ],
      "execution_count": 3,
      "outputs": [
        {
          "output_type": "execute_result",
          "data": {
            "text/html": [
              "<div>\n",
              "<style scoped>\n",
              "    .dataframe tbody tr th:only-of-type {\n",
              "        vertical-align: middle;\n",
              "    }\n",
              "\n",
              "    .dataframe tbody tr th {\n",
              "        vertical-align: top;\n",
              "    }\n",
              "\n",
              "    .dataframe thead th {\n",
              "        text-align: right;\n",
              "    }\n",
              "</style>\n",
              "<table border=\"1\" class=\"dataframe\">\n",
              "  <thead>\n",
              "    <tr style=\"text-align: right;\">\n",
              "      <th></th>\n",
              "      <th>Unnamed: 0</th>\n",
              "      <th>Class</th>\n",
              "      <th>Sex</th>\n",
              "      <th>Age</th>\n",
              "      <th>Survived</th>\n",
              "      <th>Freq</th>\n",
              "    </tr>\n",
              "  </thead>\n",
              "  <tbody>\n",
              "    <tr>\n",
              "      <th>0</th>\n",
              "      <td>1</td>\n",
              "      <td>1st</td>\n",
              "      <td>Male</td>\n",
              "      <td>Child</td>\n",
              "      <td>No</td>\n",
              "      <td>0</td>\n",
              "    </tr>\n",
              "    <tr>\n",
              "      <th>1</th>\n",
              "      <td>2</td>\n",
              "      <td>2nd</td>\n",
              "      <td>Male</td>\n",
              "      <td>Child</td>\n",
              "      <td>No</td>\n",
              "      <td>0</td>\n",
              "    </tr>\n",
              "    <tr>\n",
              "      <th>2</th>\n",
              "      <td>3</td>\n",
              "      <td>3rd</td>\n",
              "      <td>Male</td>\n",
              "      <td>Child</td>\n",
              "      <td>No</td>\n",
              "      <td>35</td>\n",
              "    </tr>\n",
              "    <tr>\n",
              "      <th>3</th>\n",
              "      <td>4</td>\n",
              "      <td>Crew</td>\n",
              "      <td>Male</td>\n",
              "      <td>Child</td>\n",
              "      <td>No</td>\n",
              "      <td>0</td>\n",
              "    </tr>\n",
              "    <tr>\n",
              "      <th>4</th>\n",
              "      <td>5</td>\n",
              "      <td>1st</td>\n",
              "      <td>Female</td>\n",
              "      <td>Child</td>\n",
              "      <td>No</td>\n",
              "      <td>0</td>\n",
              "    </tr>\n",
              "  </tbody>\n",
              "</table>\n",
              "</div>"
            ],
            "text/plain": [
              "   Unnamed: 0 Class     Sex    Age Survived  Freq\n",
              "0           1   1st    Male  Child       No     0\n",
              "1           2   2nd    Male  Child       No     0\n",
              "2           3   3rd    Male  Child       No    35\n",
              "3           4  Crew    Male  Child       No     0\n",
              "4           5   1st  Female  Child       No     0"
            ]
          },
          "metadata": {
            "tags": []
          },
          "execution_count": 3
        }
      ]
    }
  ]
}