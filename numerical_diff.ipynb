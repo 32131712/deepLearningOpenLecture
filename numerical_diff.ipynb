{
  "nbformat": 4,
  "nbformat_minor": 0,
  "metadata": {
    "colab": {
      "name": "numerical_diff.ipynb",
      "version": "0.3.2",
      "provenance": [],
      "collapsed_sections": []
    },
    "kernelspec": {
      "name": "python3",
      "display_name": "Python 3"
    }
  },
  "cells": [
    {
      "cell_type": "markdown",
      "metadata": {
        "id": "view-in-github",
        "colab_type": "text"
      },
      "source": [
        "[View in Colaboratory](https://colab.research.google.com/github/eventia/deepLearningOpenLecture/blob/master/numerical_diff.ipynb)"
      ]
    },
    {
      "metadata": {
        "id": "2LVZfhVol7ss",
        "colab_type": "text"
      },
      "cell_type": "markdown",
      "source": [
        "### 수치미분"
      ]
    },
    {
      "metadata": {
        "id": "SaKWCzfnl4SQ",
        "colab_type": "code",
        "colab": {}
      },
      "cell_type": "code",
      "source": [
        "# 잘못된 수치미분 코드의 예\n",
        "# h 값이 지나치게 작음 (프로그램에서 처리하기 곤란)\n",
        "\n",
        "def numerical_diff_nu(f,x):\n",
        "  h = 1e-50\n",
        "  return (f(x+h)-f(x))/h\n"
      ],
      "execution_count": 0,
      "outputs": []
    },
    {
      "metadata": {
        "id": "-2BkVYd8maSj",
        "colab_type": "code",
        "colab": {}
      },
      "cell_type": "code",
      "source": [
        "# 수치미분 코드\n",
        "# h 값을 프로그램에서 처리할 수 있을 정도로 크게하고\n",
        "# 에러보정을 위해 f(x+h) - f(x-h) / 2h 를 사용\n",
        "\n",
        "def numerical_diff(f,x):\n",
        "  h = 1e-4\n",
        "  return (f(x+h)-f(x-h))/(2*h)"
      ],
      "execution_count": 0,
      "outputs": []
    },
    {
      "metadata": {
        "id": "2D5SznHgAYNv",
        "colab_type": "text"
      },
      "cell_type": "markdown",
      "source": [
        "이차함수 \n",
        "---\n",
        "\\begin{matrix}\n",
        "y = 0.01x^2 + 0.1x \n",
        "\\end{matrix}\n",
        "\n"
      ]
    },
    {
      "metadata": {
        "id": "XwcojtD1AbRz",
        "colab_type": "code",
        "colab": {
          "base_uri": "https://localhost:8080/",
          "height": 361
        },
        "outputId": "f0b6834f-ffa3-480b-a824-c00945d7be3a"
      },
      "cell_type": "code",
      "source": [
        "def function_1(x):\n",
        "  return 0.01*x**2 + 0.1*x\n",
        "\n",
        "import numpy as np\n",
        "import matplotlib.pylab as plt\n",
        "\n",
        "x = np.arange(0.0, 20.0, 0.1)\n",
        "y = function_1(x)\n",
        "plt.xlabel(\"x\")\n",
        "plt.ylabel(\"f(x)\")\n",
        "plt.plot(x,y)\n",
        "plt.show()"
      ],
      "execution_count": 3,
      "outputs": [
        {
          "output_type": "display_data",
          "data": {
            "image/png": "[encoded data removed]",
            "text/plain": [
              "<matplotlib.figure.Figure at 0x7f1b4b365048>"
            ]
          },
          "metadata": {
            "tags": []
          }
        }
      ]
    },
    {
      "metadata": {
        "id": "qSFHKkheEe_U",
        "colab_type": "code",
        "colab": {
          "base_uri": "https://localhost:8080/",
          "height": 53
        },
        "outputId": "e27394a9-8c96-4386-9db3-5f862dce49da"
      },
      "cell_type": "code",
      "source": [
        "g1 = numerical_diff(function_1, 5)\n",
        "g2 = numerical_diff(function_1, 10)\n",
        "print(g1,g2)\n",
        "\n",
        "d1 = numerical_diff_nu(function_1, 5)\n",
        "d2 = numerical_diff_nu(function_1, 10)\n",
        "print(d1,d2)\n"
      ],
      "execution_count": 4,
      "outputs": [
        {
          "output_type": "stream",
          "text": [
            "0.1999999999990898 0.2999999999986347\n",
            "0.0 0.0\n"
          ],
          "name": "stdout"
        }
      ]
    }
  ]
}