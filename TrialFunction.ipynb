{
  "nbformat": 4,
  "nbformat_minor": 0,
  "metadata": {
    "colab": {
      "name": "TrialFunction",
      "version": "0.3.2",
      "provenance": []
    },
    "kernelspec": {
      "name": "python3",
      "display_name": "Python 3"
    }
  },
  "cells": [
    {
      "cell_type": "markdown",
      "metadata": {
        "id": "view-in-github",
        "colab_type": "text"
      },
      "source": [
        "[View in Colaboratory](https://colab.research.google.com/github/eventia/deepLearningOpenLecture/blob/master/TrialFunction.ipynb)"
      ]
    },
    {
      "metadata": {
        "id": "Ozhye9fvA2jf",
        "colab_type": "code",
        "colab": {
          "base_uri": "https://localhost:8080/",
          "height": 260
        },
        "outputId": "0c2dc4db-7a70-43de-a310-a12001493c04"
      },
      "cell_type": "code",
      "source": [
        "import numpy as np\n",
        "\n",
        "# np.random.randn(3, 10) # 3행 10열짜리 행렬에 정규분포(가우시안분포)에 해당되는 난수를 넣는다.\n",
        "input_size, hidden_size = 28*28, 100\n",
        "np.random.randn(input_size, hidden_size)"
      ],
      "execution_count": 10,
      "outputs": [
        {
          "output_type": "execute_result",
          "data": {
            "text/plain": [
              "array([[ 1.84804153, -0.64069592, -1.05735517, ...,  0.86386517,\n",
              "         1.22139001,  0.83997263],\n",
              "       [ 1.19694956,  0.61574588, -0.27914275, ..., -0.78158214,\n",
              "         0.37471033,  0.31311172],\n",
              "       [-0.84864056,  0.43142873, -1.70823174, ...,  1.66281374,\n",
              "         0.33518449,  0.03561243],\n",
              "       ...,\n",
              "       [ 0.18745767, -0.5314146 , -1.48170295, ..., -2.28061888,\n",
              "         0.94391189,  0.3075364 ],\n",
              "       [ 1.03470277, -1.95767158,  0.57132796, ...,  2.70124889,\n",
              "        -1.25133442, -1.28216532],\n",
              "       [-0.15538898,  0.33588367, -2.45563703, ..., -0.08320481,\n",
              "        -0.54614147,  0.73817974]])"
            ]
          },
          "metadata": {
            "tags": []
          },
          "execution_count": 10
        }
      ]
    }
  ]
}