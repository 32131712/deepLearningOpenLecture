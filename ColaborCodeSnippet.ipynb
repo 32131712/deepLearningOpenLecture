{
  "nbformat": 4,
  "nbformat_minor": 0,
  "metadata": {
    "colab": {
      "name": "ColaborCodeSnippet",
      "version": "0.3.2",
      "provenance": [],
      "collapsed_sections": [],
      "toc_visible": true
    },
    "kernelspec": {
      "display_name": "Python 3",
      "name": "python3"
    }
  },
  "cells": [
    {
      "cell_type": "markdown",
      "metadata": {
        "id": "view-in-github",
        "colab_type": "text"
      },
      "source": [
        "[View in Colaboratory](https://colab.research.google.com/github/eventia/deepLearningOpenLecture/blob/master/ColaborCodeSnippet.ipynb)"
      ]
    },
    {
      "metadata": {
        "id": "Hqr-bQHqsDgf",
        "colab_type": "text"
      },
      "cell_type": "markdown",
      "source": [
        "## CodeSnippet 으로 살펴보는 Colaboratory Google"
      ]
    },
    {
      "metadata": {
        "id": "TAVmxYZasN6X",
        "colab_type": "text"
      },
      "cell_type": "markdown",
      "source": [
        "### Downloading files or importing data from Google Drive"
      ]
    },
    {
      "metadata": {
        "id": "OBwcYj27wOFY",
        "colab_type": "code",
        "colab": {}
      },
      "cell_type": "code",
      "source": [
        "# Install the PyDrive wrapper & import libraries.\n",
        "# This only needs to be done once per notebook.\n",
        "!pip install -U -q PyDrive\n",
        "from pydrive.auth import GoogleAuth\n",
        "from pydrive.drive import GoogleDrive\n",
        "from google.colab import auth\n",
        "from oauth2client.client import GoogleCredentials\n",
        "\n",
        "# Authenticate and create the PyDrive client.\n",
        "# This only needs to be done once per notebook.\n",
        "auth.authenticate_user()\n",
        "gauth = GoogleAuth()\n",
        "gauth.credentials = GoogleCredentials.get_application_default()\n",
        "drive = GoogleDrive(gauth)\n"
      ],
      "execution_count": 0,
      "outputs": []
    },
    {
      "metadata": {
        "id": "gNJF_-JrwSOZ",
        "colab_type": "code",
        "colab": {
          "base_uri": "https://localhost:8080/",
          "height": 35
        },
        "outputId": "47d0fc25-8edc-4447-ea41-3bd67667ca59"
      },
      "cell_type": "code",
      "source": [
        "# Download a file based on its file ID.\n",
        "#\n",
        "# A file ID looks like: laggVyWshwcyP6kEI-y_W3P8D26sz\n",
        "file_id = '14S_ho5ZdYvWOa3ss_FRCP67gh05g7yeK'\n",
        "downloaded = drive.CreateFile({'id': file_id})\n",
        "print('Downloaded content \"{}\"'.format(downloaded.GetContentString()))"
      ],
      "execution_count": 7,
      "outputs": [
        {
          "output_type": "stream",
          "text": [
            "Downloaded content \"TEST 1 LINE\"\n"
          ],
          "name": "stdout"
        }
      ]
    }
  ]
}