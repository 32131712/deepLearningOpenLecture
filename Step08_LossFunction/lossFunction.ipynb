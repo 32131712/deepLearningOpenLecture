{
 "cells": [
  {
   "cell_type": "markdown",
   "metadata": {},
   "source": [
    "### 평균제곱오차 (Mean Square Error) \n",
    "##### 오류수정\n",
    "\\begin{equation*}\n",
    "MSE = \\frac{1}{N} \\sum (y_i - t_i)^2 \n",
    "\\end{equation*}"
   ]
  },
  {
   "cell_type": "code",
   "execution_count": 12,
   "metadata": {},
   "outputs": [],
   "source": [
    "import numpy as np\n",
    "t = [0, 0, 1, 0, 0, 0, 0, 0, 0, 0]"
   ]
  },
  {
   "cell_type": "code",
   "execution_count": 13,
   "metadata": {},
   "outputs": [],
   "source": [
    "def mean_square_error(y,t):\n",
    "    return (np.sum((y-t)**2)/len(y))"
   ]
  },
  {
   "cell_type": "code",
   "execution_count": 14,
   "metadata": {},
   "outputs": [
    {
     "data": {
      "text/plain": [
       "0.11950000000000001"
      ]
     },
     "execution_count": 14,
     "metadata": {},
     "output_type": "execute_result"
    }
   ],
   "source": [
    "y = [.1, .05, .1, .0, .05, .1, .0, .6, .0, .0]\n",
    "mean_square_error(np.array(y),np.array(t))"
   ]
  },
  {
   "cell_type": "code",
   "execution_count": 4,
   "metadata": {},
   "outputs": [
    {
     "name": "stdout",
     "output_type": "stream",
     "text": [
      "[0, 0, 1, 0, 0, 0, 0, 0, 0, 0]\n",
      "[0.1, 0.05, 0.1, 0.0, 0.05, 0.1, 0.0, 0.6, 0.0, 0.0]\n",
      "[-0.1  -0.05  0.9   0.   -0.05 -0.1   0.   -0.6   0.    0.  ]\n",
      "[0.01   0.0025 0.81   0.     0.0025 0.01   0.     0.36   0.     0.    ]\n",
      "1.1949999999999998\n",
      "0.11949999999999998\n"
     ]
    }
   ],
   "source": [
    "print(t)\n",
    "print(y)\n",
    "print(np.array(t)-np.array(y))\n",
    "print((np.array(t)-np.array(y))**2)\n",
    "print(sum((np.array(t)-np.array(y))**2))\n",
    "print(sum((np.array(t)-np.array(y))**2)/len(y))\n"
   ]
  },
  {
   "cell_type": "code",
   "execution_count": 15,
   "metadata": {},
   "outputs": [
    {
     "data": {
      "text/plain": [
       "0.019500000000000007"
      ]
     },
     "execution_count": 15,
     "metadata": {},
     "output_type": "execute_result"
    }
   ],
   "source": [
    "y = [.1, .05, .6, .0, .05, .1, .0, .1, .0, .0]\n",
    "mean_square_error(np.array(y),np.array(t))"
   ]
  },
  {
   "cell_type": "markdown",
   "metadata": {},
   "source": [
    "### 교차엔트로피 오차 CEE (Cross Entropy Error)\n",
    "\\begin{equation*}\n",
    "E = -\\sum t_i \\cdot log(y_i)\n",
    "\\end{equation*}"
   ]
  },
  {
   "cell_type": "code",
   "execution_count": 17,
   "metadata": {},
   "outputs": [],
   "source": [
    "def cross_entropy_error(y,t):\n",
    "    delta = 1e-7\n",
    "    return -np.sum(t*np.log(y+delta))"
   ]
  },
  {
   "cell_type": "code",
   "execution_count": 18,
   "metadata": {},
   "outputs": [
    {
     "data": {
      "text/plain": [
       "2.302584092994546"
      ]
     },
     "execution_count": 18,
     "metadata": {},
     "output_type": "execute_result"
    }
   ],
   "source": [
    "y = [.1, .05, .1, .0, .05, .1, .0, .6, .0, .0]\n",
    "cross_entropy_error(np.array(y),np.array(t))"
   ]
  },
  {
   "cell_type": "code",
   "execution_count": 19,
   "metadata": {},
   "outputs": [
    {
     "data": {
      "text/plain": [
       "0.510825457099338"
      ]
     },
     "execution_count": 19,
     "metadata": {},
     "output_type": "execute_result"
    }
   ],
   "source": [
    "y = [.1, .05, .6, .0, .05, .1, .0, .1, .0, .0]\n",
    "cross_entropy_error(np.array(y),np.array(t))"
   ]
  },
  {
   "cell_type": "code",
   "execution_count": 16,
   "metadata": {},
   "outputs": [
    {
     "name": "stdout",
     "output_type": "stream",
     "text": [
      "2.302584092994546\n",
      "0.510825457099338\n"
     ]
    }
   ],
   "source": [
    "t = [0, 0, 1, 0, 0, 0, 0, 0, 0, 0]\n",
    "y01 = [.1, .05, .1, .0, .05, .1, .0, .6, .0, .0]\n",
    "y57 = [.1, .05, .6, .0, .05, .1, .0, .1, .0, .0]\n",
    "print(cross_entropy_error(np.array(y01),np.array(t)))\n",
    "print(cross_entropy_error(np.array(y57),np.array(t)))"
   ]
  },
  {
   "cell_type": "code",
   "execution_count": null,
   "metadata": {},
   "outputs": [],
   "source": []
  }
 ],
 "metadata": {
  "kernelspec": {
   "display_name": "Python 3",
   "language": "python",
   "name": "python3"
  },
  "language_info": {
   "codemirror_mode": {
    "name": "ipython",
    "version": 3
   },
   "file_extension": ".py",
   "mimetype": "text/x-python",
   "name": "python",
   "nbconvert_exporter": "python",
   "pygments_lexer": "ipython3",
   "version": "3.6.2"
  }
 },
 "nbformat": 4,
 "nbformat_minor": 2
}
