{
 "cells": [
  {
   "cell_type": "code",
   "execution_count": 10,
   "metadata": {},
   "outputs": [],
   "source": [
    "import numpy as np"
   ]
  },
  {
   "cell_type": "code",
   "execution_count": 19,
   "metadata": {},
   "outputs": [],
   "source": [
    "def MLPerceptron(X,W1,W2):\n",
    "    x = np.array(X)\n",
    "    w1 = np.array(W1)\n",
    "    w2 = np.array(W2)\n",
    "    s1 = np.array([0.0]*len(X))\n",
    "    s2 = np.array([0.0]*len(X))\n",
    "    for num in range(len(x)):\n",
    "        s1[num] = np.sum(x*w1[num]) > 0\n",
    "    for num in range(len(x)):\n",
    "        s2[num] = np.sum(s1*w2[num]) > 0\n",
    "    return s2"
   ]
  },
  {
   "cell_type": "code",
   "execution_count": 22,
   "metadata": {},
   "outputs": [],
   "source": [
    "W1 = [[-0.5,-0.5,0,0,0,0.7],\n",
    "      [0.5,0.5,0,0,0,-0.2],\n",
    "      [0,0,0,0,0,0],\n",
    "      [0,0,0,0,0,0],\n",
    "      [0,0,0,0,0,0],\n",
    "      [0,0,0,0,0,1]]\n",
    "\n",
    "W2 = [[0.5,0.5,0,0,0,-0.7],    \n",
    "      [0,0,0,0,0,0],    \n",
    "      [0,0,0,0,0,0],    \n",
    "      [0,0,0,0,0,0],    \n",
    "      [0,0,0,0,0,0],    \n",
    "      [0,0,0,0,0,0]]"
   ]
  },
  {
   "cell_type": "code",
   "execution_count": 25,
   "metadata": {},
   "outputs": [
    {
     "name": "stdout",
     "output_type": "stream",
     "text": [
      "[0. 0. 0. 0. 0. 0.]\n",
      "[1. 0. 0. 0. 0. 0.]\n",
      "[1. 0. 0. 0. 0. 0.]\n",
      "[0. 0. 0. 0. 0. 0.]\n"
     ]
    }
   ],
   "source": [
    "X = [0,0,0,0,0,1]\n",
    "print(MLPerceptron(X,W1,W2))\n",
    "X = [0,1,0,0,0,1]\n",
    "print(MLPerceptron(X,W1,W2))\n",
    "X = [1,0,0,0,0,1]\n",
    "print(MLPerceptron(X,W1,W2))\n",
    "X = [1,1,0,0,0,1]\n",
    "print(MLPerceptron(X,W1,W2))"
   ]
  },
  {
   "cell_type": "code",
   "execution_count": null,
   "metadata": {},
   "outputs": [],
   "source": []
  }
 ],
 "metadata": {
  "kernelspec": {
   "display_name": "Python 3",
   "language": "python",
   "name": "python3"
  },
  "language_info": {
   "codemirror_mode": {
    "name": "ipython",
    "version": 3
   },
   "file_extension": ".py",
   "mimetype": "text/x-python",
   "name": "python",
   "nbconvert_exporter": "python",
   "pygments_lexer": "ipython3",
   "version": "3.6.2"
  }
 },
 "nbformat": 4,
 "nbformat_minor": 2
}
