{
  "nbformat": 4,
  "nbformat_minor": 0,
  "metadata": {
    "colab": {
      "name": "TrialFunction",
      "version": "0.3.2",
      "provenance": [],
      "collapsed_sections": []
    },
    "kernelspec": {
      "name": "python3",
      "display_name": "Python 3"
    }
  },
  "cells": [
    {
      "cell_type": "markdown",
      "metadata": {
        "id": "view-in-github",
        "colab_type": "text"
      },
      "source": [
        "[View in Colaboratory](https://colab.research.google.com/github/eventia/deepLearningOpenLecture/blob/master/TrialFunction.ipynb)"
      ]
    },
    {
      "metadata": {
        "id": "Ozhye9fvA2jf",
        "colab_type": "code",
        "colab": {
          "base_uri": "https://localhost:8080/",
          "height": 35
        },
        "outputId": "e85c9be9-75ae-48c6-f60c-3333febcf059"
      },
      "cell_type": "code",
      "source": [
        "import numpy as np\n",
        "\n",
        "num_1 = np.random.randn(3, 4, 2, 2) # 3x4x2x2 정규분포(가우시안분포)에 해당되는 난수를 넣는다.\n",
        "num_2 = np.random.randn(3, 4)       # 3행 4열짜리 행렬에 정규분포(가우시안분포)에 해당되는 난수를 넣는다.\n",
        "num_3 = np.random.randn(5)         # 30개의 수를 정규분포(가우시안분포)에 해당되는 난수를 넣는다.\n",
        "# input_size, hidden_size = 28*28, 100\n",
        "# np.random.randn(input_size, hidden_size)\n",
        "\n",
        "print(num_3)"
      ],
      "execution_count": 4,
      "outputs": [
        {
          "output_type": "stream",
          "text": [
            "[ 0.59316662 -0.33428569 -0.81415317  0.85719219 -0.03567227]\n"
          ],
          "name": "stdout"
        }
      ]
    },
    {
      "metadata": {
        "id": "coW0rjVnt3Wp",
        "colab_type": "code",
        "colab": {
          "base_uri": "https://localhost:8080/",
          "height": 52
        },
        "outputId": "c87dafbf-4640-4ec7-a102-f8d0a8de1218"
      },
      "cell_type": "code",
      "source": [
        "import numpy as np\n",
        "\n",
        "numsize = 10000\n",
        "sum0, sum1, sum2, sum3, sum4 = 0,0,0,0,0\n",
        "arrA = np.random.randint(5,size=numsize)\n",
        "for num in range(numsize) :\n",
        "  if arrA[num]==0 :\n",
        "    sum0 += 1;\n",
        "  elif arrA[num]==1 :\n",
        "    sum1 += 1\n",
        "  elif arrA[num]==2:\n",
        "    sum2 += 1\n",
        "  elif arrA[num]==3:\n",
        "    sum3 += 1  \n",
        "  elif arrA[num]==4:\n",
        "    sum4 += 1\n",
        "    \n",
        "print(sum0, sum1, sum2, sum3)\n",
        "\n",
        "sum = [0,0,0,0,0]  #sum[0] = 0\n",
        "sum = np.zeros(5)\n",
        "for num in range(numsize) :\n",
        "  sum[arrA[num]]+=1\n",
        "print(sum)"
      ],
      "execution_count": 9,
      "outputs": [
        {
          "output_type": "stream",
          "text": [
            "2043 2066 1985 1934\n",
            "[2043. 2066. 1985. 1934. 1972.]\n"
          ],
          "name": "stdout"
        }
      ]
    },
    {
      "metadata": {
        "id": "0t6isv7SztyR",
        "colab_type": "code",
        "colab": {
          "base_uri": "https://localhost:8080/",
          "height": 35
        },
        "outputId": "d5453c61-fc3d-49b1-e76b-392b3e342e71"
      },
      "cell_type": "code",
      "source": [
        "import numpy as np\n",
        "\n",
        "numsize = 10000\n",
        "arrA = np.random.rand(numsize)\n",
        "\n",
        "sum = np.zeros(9)\n",
        "for num in range(numsize):\n",
        "  for nn in range(10):\n",
        "    if arrA[num]< nn*0.1:\n",
        "      sum[nn-1]+=1\n",
        "      break\n",
        "\n",
        "print(sum)      \n"
      ],
      "execution_count": 10,
      "outputs": [
        {
          "output_type": "stream",
          "text": [
            "[ 941. 1019. 1001. 1038.  992. 1012. 1007. 1005.  975.]\n"
          ],
          "name": "stdout"
        }
      ]
    },
    {
      "metadata": {
        "id": "kHQATFa03Q2s",
        "colab_type": "code",
        "colab": {
          "base_uri": "https://localhost:8080/",
          "height": 730
        },
        "outputId": "4da24693-0486-417a-853d-d87bcd9ab1a2"
      },
      "cell_type": "code",
      "source": [
        "#@title\n",
        "import numpy as np\n",
        "# import pandas as pd\n",
        "import matplotlib.pyplot as plt\n",
        "\n",
        "std_n, mean_n = 100, 100\n",
        "numsize = 1000\n",
        "width = 10+1\n",
        "\n",
        "arr_nd = np.random.randn(numsize)*std_n+mean_n\n",
        "arr_rd = np.random.rand(numsize)*std_n+mean_n\n",
        "\n",
        "# step  = [95,96,97,98,99,100,101,102,103,104]\n",
        "step  = list(range(mean_n-3*std_n, mean_n+3*std_n+1,int(6*std_n/width-1)))\n",
        "stepr = list(range(mean_n,mean_n+std_n+1,int(std_n/width-1)))\n",
        "sum_nd = np.zeros(width-1)\n",
        "sum_rd = np.zeros(width-1)\n",
        "\n",
        "for num in range(numsize):\n",
        "  for nn in range(0,width):\n",
        "    if arr_nd[num]< step[nn]:\n",
        "      sum_nd[nn-1]+=1\n",
        "      break\n",
        "\n",
        "for num in range(numsize):\n",
        "  for nn in range(0,width):\n",
        "    if arr_rd[num]< stepr[nn]:\n",
        "      sum_rd[nn-1]+=1\n",
        "      break\n",
        "      \n",
        "print(\"RANGE  :   1    2    3    4    5    6    7    8    9   10\")\n",
        "print(\"sumN = \", sum_nd)\n",
        "print(\"sumR = \", sum_rd) \n",
        "# print(arr_rd)\n",
        "\n",
        "y_axis = sum_nd\n",
        "x_axis = range(len(y_axis))\n",
        "width_n = 0.9\n",
        "bar_color = 'yellow'\n",
        "\n",
        "plt.bar(x_axis, y_axis, width=width_n, color=bar_color)\n",
        "plt.show()\n",
        "\n",
        "y_axis = sum_rd\n",
        "x_axis = range(len(y_axis))\n",
        "width_n = 0.9\n",
        "bar_color = 'green'\n",
        "\n",
        "plt.bar(x_axis, y_axis, width=width_n, color=bar_color)\n",
        "plt.show()"
      ],
      "execution_count": 1,
      "outputs": [
        {
          "output_type": "stream",
          "text": [
            "RANGE  :   1    2    3    4    5    6    7    8    9   10\n",
            "sumN =  [  5.  17.  58. 100. 189. 198. 198. 127.  60.  38.]\n",
            "sumR =  [86. 65. 92. 79. 67. 76. 82. 81. 85. 87.]\n"
          ],
          "name": "stdout"
        },
        {
          "output_type": "display_data",
          "data": {
            "image/png": "[encoded data removed]",
            "text/plain": [
              "<matplotlib.figure.Figure at 0x7f4fd5a61f98>"
            ]
          },
          "metadata": {
            "tags": []
          }
        },
        {
          "output_type": "display_data",
          "data": {
            "image/png": "[encoded data removed]",
            "text/plain": [
              "<matplotlib.figure.Figure at 0x7f4fd5998710>"
            ]
          },
          "metadata": {
            "tags": []
          }
        }
      ]
    },
    {
      "metadata": {
        "id": "IQbq1BOAL3Lw",
        "colab_type": "code",
        "colab": {
          "base_uri": "https://localhost:8080/",
          "height": 53
        },
        "outputId": "a4db4c5b-83a8-4752-b2f7-0aa8d0ea27a1"
      },
      "cell_type": "code",
      "source": [
        "#@title\n",
        "import numpy as np\n",
        "\n",
        "numsize = 1000\n",
        "num_mean = 1000\n",
        "num_std = 100\n",
        "\n",
        "arr_rd = np.random.rand(numsize)*num_std+num_mean\n",
        "# step = range(num_mean-5*num_std,num_mean+5*num_std,num_std)\n",
        "step = range(num_mean,num_mean+num_std+1,int(num_std/10))\n",
        "\n",
        "sum_rd = np.zeros(10)\n",
        "\n",
        "for num in range(numsize):\n",
        "  for nn in range(0,10):\n",
        "    if arr_rd[num]< step[nn+1]:\n",
        "      sum_rd[nn]+=1\n",
        "      break\n",
        "      \n",
        "# for num in range(numsize):\n",
        "#   for nn in range(1,10):\n",
        "#     if arr_rd[num]< step[nn]:\n",
        "#       sum_rd[nn-1]+=1\n",
        "#       break\n",
        "\n",
        "print(\"step =\", list(step))\n",
        "print(\"sumR =\", sum_rd) \n",
        "# print(arr_rd)"
      ],
      "execution_count": 0,
      "outputs": [
        {
          "output_type": "stream",
          "text": [
            "step = [1000, 1010, 1020, 1030, 1040, 1050, 1060, 1070, 1080, 1090, 1100]\n",
            "sumR = [ 96. 112. 121.  99.  88. 103. 106. 100. 102.  73.]\n"
          ],
          "name": "stdout"
        }
      ]
    },
    {
      "metadata": {
        "id": "HRLZwRq-xBrN",
        "colab_type": "code",
        "colab": {
          "base_uri": "https://localhost:8080/",
          "height": 3598
        },
        "outputId": "83171f7a-129a-4e29-903d-1b5bd449df48"
      },
      "cell_type": "code",
      "source": [
        "range_a = range(10)\n",
        "\n",
        "# print(range_a)\n",
        "# print(list(range_a))\n",
        "width = 11\n",
        "step  = list(range(mean_n-3*std_n, mean_n+3*std_n,int(6*std_n/(width-1 ))))\n",
        "stepr = list(range(mean_n,mean_n+std_n,int(std_n/(width-1 ))))\n",
        "\n",
        "print(width, step, stepr)\n",
        "# print(arr_nd)\n",
        "print(arr_rd)"
      ],
      "execution_count": 13,
      "outputs": [
        {
          "output_type": "stream",
          "text": [
            "11 [-200, -140, -80, -20, 40, 100, 160, 220, 280, 340] [100, 110, 120, 130, 140, 150, 160, 170, 180, 190]\n",
            "[197.32162138 198.55901897 198.74387343 114.38806108 160.530949\n",
            " 165.15167655 124.59410512 121.07310106 175.36150699 154.63315687\n",
            " 136.83021562 139.03019598 193.30260207 164.25212294 148.65887774\n",
            " 118.239284   161.07457398 116.06135716 129.59149091 107.74942828\n",
            " 198.59244049 100.58803501 127.17112386 169.17031343 166.60463316\n",
            " 169.78665868 111.1705175  122.19964422 132.9597349  102.14335161\n",
            " 194.72975649 130.66654928 117.14171285 170.21018017 184.51399398\n",
            " 123.68736168 195.98290429 119.70799696 165.30124123 118.00356467\n",
            " 142.37299586 158.44406126 125.13253595 113.98808226 157.9526318\n",
            " 186.40545718 180.2216628  160.44768339 175.364462   161.47717186\n",
            " 179.47385811 178.35075169 117.0078122  185.8909211  134.23690571\n",
            " 116.91388221 135.74127294 143.21160586 138.39441598 193.60460902\n",
            " 113.13777813 102.87235263 149.97888248 117.11138414 163.60419714\n",
            " 175.4030332  192.9416327  101.70100703 118.58734209 150.83233124\n",
            " 141.7454742  107.65501627 176.67093498 198.32100621 170.75044175\n",
            " 123.73081271 199.39496438 162.35170891 180.853797   160.05196544\n",
            " 190.7628752  143.07991305 152.59127399 124.89185202 113.56048273\n",
            " 164.0237499  195.63483184 112.6595696  125.20083152 130.54983289\n",
            " 168.34754493 119.71880359 154.80443569 150.74442347 114.6376533\n",
            " 168.09610961 133.46765624 109.8862147  130.70655304 182.91592042\n",
            " 134.0360284  159.1033863  189.20539749 193.2523686  124.16660292\n",
            " 123.55996457 172.56182583 109.43050149 110.10951436 157.74246839\n",
            " 165.25269988 164.55082016 118.55459645 117.43764561 134.93189792\n",
            " 107.10971432 144.71598504 169.24075226 135.99639662 160.29908064\n",
            " 186.24246868 129.89333238 192.49134199 173.75306016 109.95439368\n",
            " 129.86424968 159.90350419 181.70234162 124.87899791 167.42291156\n",
            " 186.27982261 141.49315822 175.42844188 170.21932123 140.52635987\n",
            " 190.5753802  182.2456483  156.15680716 131.93993745 156.64281708\n",
            " 110.59397647 191.78884656 104.27947455 106.288005   175.00755577\n",
            " 161.1028206  135.70643497 129.6220409  116.06085227 161.22074014\n",
            " 159.02141157 119.71815942 186.73974929 185.33489946 113.24150183\n",
            " 167.94866886 197.84029722 118.53611643 100.2532263  186.72065937\n",
            " 153.13013537 146.71678546 183.92768475 151.02929419 135.18625414\n",
            " 154.35776507 138.99258041 148.28016661 101.85758169 164.45512818\n",
            " 135.82542412 131.33650517 118.92529676 173.3934587  180.98804412\n",
            " 157.95120383 132.7875927  128.6460219  196.96053402 128.74319923\n",
            " 199.19906758 135.42682474 143.18982418 188.34868607 198.35736831\n",
            " 112.84941229 111.95416595 100.11852184 163.68188224 195.08095881\n",
            " 109.59978288 103.83549002 136.91292482 176.52140071 136.93453112\n",
            " 134.32786943 149.97767891 181.98644584 167.48610266 199.6013767\n",
            " 130.9331331  126.12869989 132.56179141 137.67820655 128.27026281\n",
            " 146.48464875 102.71469484 102.71750606 126.94872848 170.25411008\n",
            " 193.44299654 135.98273636 149.12513084 102.46235627 192.74014402\n",
            " 179.57396639 142.32546656 108.84330545 190.53809605 154.71427262\n",
            " 157.83277638 149.15932737 130.55042658 126.31675008 171.13865168\n",
            " 155.15517186 151.6331066  158.75780886 106.55273014 187.54407045\n",
            " 161.27581329 198.19999258 168.79104865 129.73265541 183.04218251\n",
            " 180.25555763 177.71295245 117.64453747 164.61171069 144.16981108\n",
            " 128.67293355 112.36633045 156.98772498 138.393206   150.86114986\n",
            " 117.18498304 152.4077285  135.57681427 131.26352783 137.31339272\n",
            " 193.86854806 198.48515979 197.01702371 106.16587753 188.0602771\n",
            " 156.64680103 143.07376161 115.7059665  113.94817521 155.25479618\n",
            " 117.8973934  157.11734593 182.53150645 199.73103726 168.59599503\n",
            " 142.86667463 139.17075528 150.8176439  139.8600749  129.49314151\n",
            " 181.53000013 125.43534287 130.50608174 103.90646773 137.72254496\n",
            " 180.27994351 102.85814217 101.54367991 153.38934508 162.93610093\n",
            " 121.80532784 129.02495739 182.00738296 117.26570658 176.26469989\n",
            " 177.84776584 183.61774609 103.49160372 193.92529688 181.72272085\n",
            " 189.21394903 198.83109177 195.59139484 194.77971163 129.09373041\n",
            " 121.67242707 189.86447726 156.9928303  151.23472445 194.10224916\n",
            " 125.29577495 129.1332738  187.42327004 145.13498147 186.58128512\n",
            " 101.9618956  120.23965849 171.72032124 177.59088145 121.77301424\n",
            " 149.57161207 113.14737105 143.29226605 156.06384987 118.84148154\n",
            " 104.00947046 185.33350453 108.42799203 186.97612377 193.31923519\n",
            " 130.74433818 142.03680443 100.43367849 169.55260019 134.43603258\n",
            " 163.03154977 155.59932494 104.578348   139.05543785 108.59353967\n",
            " 102.99089297 160.0751296  108.3692281  100.86379384 160.15355243\n",
            " 175.46424669 131.15575382 172.29282663 140.47801579 151.31924226\n",
            " 144.16865952 186.01117789 115.5859071  187.17018526 172.97034681\n",
            " 190.16401197 110.97102371 178.00476143 129.93543733 142.22427905\n",
            " 140.52288236 147.85323256 165.22285433 135.43965672 111.55205765\n",
            " 161.50418003 182.47102209 137.89473391 104.09631325 149.07445202\n",
            " 194.77857451 173.06406663 173.90828632 160.45820183 196.20040813\n",
            " 168.29430815 130.78188172 168.35359842 165.63756396 172.30352326\n",
            " 161.18248705 139.08643429 163.27444624 162.2620567  196.86720095\n",
            " 179.56401701 173.95847931 121.21201767 156.41986282 174.16469621\n",
            " 150.49009995 114.74915703 156.07514261 157.23826121 125.4543993\n",
            " 187.02049758 112.7651357  179.83219275 186.62812615 106.14507448\n",
            " 123.72680101 193.03287453 122.15516631 133.17489323 188.71811727\n",
            " 194.09687193 107.38321254 124.08575194 110.67907128 149.16133356\n",
            " 171.48359568 118.31146097 183.17529028 175.37363749 113.86249006\n",
            " 194.30593557 111.99247485 174.01426246 196.12534257 102.59253666\n",
            " 172.36662921 137.99040448 186.01756256 132.23666904 130.01334759\n",
            " 139.32957672 116.59276378 127.25045094 175.64161005 100.24128693\n",
            " 154.22479914 138.94524978 186.97477712 152.69220113 128.06509331\n",
            " 169.39299869 126.72282386 106.35777908 187.87553436 173.05260931\n",
            " 172.1146923  102.56100423 129.12796674 151.62898615 111.97817206\n",
            " 181.1671843  155.75087162 189.14811228 140.25752292 121.77497799\n",
            " 126.29675358 127.54635152 144.66637946 154.13711471 137.39265072\n",
            " 121.90823485 106.53691771 118.00037243 153.33922981 154.72248292\n",
            " 150.96423582 109.10126506 115.87793244 132.44536137 110.88498499\n",
            " 120.88818058 143.34255661 124.23624502 176.89245532 164.29271583\n",
            " 151.43859394 197.08668564 131.72283838 108.73176718 173.50949695\n",
            " 106.05675959 169.7332585  198.51696021 184.48191864 156.50555584\n",
            " 195.95957441 140.12888249 197.24870739 135.66285727 168.41559018\n",
            " 160.92293109 107.73049753 158.61493168 194.28798755 100.87525354\n",
            " 128.2707509  106.62046614 165.58690483 164.28411624 181.11008157\n",
            " 133.17852082 163.69856028 157.4349651  162.06055548 128.33064686\n",
            " 119.04380864 149.06893996 129.453887   194.60194735 132.26661124\n",
            " 150.44943349 170.83272355 184.26246171 161.26200923 194.56279335\n",
            " 153.38232696 195.24080898 190.80468571 131.06524219 124.02058867\n",
            " 176.84195451 158.88996418 170.13560532 102.09901809 157.93884477\n",
            " 144.76604126 108.04373548 192.84516491 162.60928259 151.69193066\n",
            " 155.71201161 162.12082026 103.2672925  106.29654357 153.71555311\n",
            " 158.25281902 119.34111282 196.37372899 158.80616746 128.37936679\n",
            " 111.75987787 159.06972334 158.1161996  121.22394344 140.76106494\n",
            " 100.57906851 141.62125927 126.24704869 175.3678223  138.39606525\n",
            " 142.79556289 104.37389086 133.25115496 162.42837833 153.688217\n",
            " 132.18478986 173.235949   138.58633287 150.4663683  161.33168394\n",
            " 105.83035052 186.47322223 110.23605282 110.22676451 124.72524775\n",
            " 178.26847821 118.49340155 176.58144094 143.99186501 137.52069323\n",
            " 155.35455671 168.77855643 131.43433275 110.33360262 173.02215259\n",
            " 171.93294222 157.45261813 172.98252988 149.94298996 159.68470273\n",
            " 127.04206601 164.00170969 103.51796437 119.8827778  135.60638796\n",
            " 126.95775681 161.0916506  107.40272123 186.21739456 170.13554919\n",
            " 173.22007732 113.76476746 187.67232049 138.26160116 131.44774054\n",
            " 178.20224393 134.68527162 196.86436551 193.77571672 154.73268875\n",
            " 168.32637398 163.92702032 102.73153807 112.81514079 110.32533098\n",
            " 132.58393418 108.8633724  186.99133319 134.32882325 130.20011584\n",
            " 140.74634103 102.11297065 196.90696211 105.13015365 144.03529754\n",
            " 150.57980308 116.67594154 180.82357907 187.46514679 195.13743415\n",
            " 175.50936079 198.79839194 105.65620777 137.86059224 168.08874339\n",
            " 127.93504507 177.377336   127.35667554 185.53098435 148.13196041\n",
            " 143.05405906 175.516426   182.27937639 187.41915433 122.11991015\n",
            " 111.6750021  123.49143364 158.24797563 119.46731618 101.72378571\n",
            " 106.9669641  114.33263057 178.81432613 179.37026642 182.26266334\n",
            " 152.16831204 180.42170016 170.26536185 180.54585342 122.81170456\n",
            " 195.99688709 136.98091595 129.23409192 139.33670823 150.01879919\n",
            " 102.80831743 191.59430255 174.04786677 143.07828066 132.13581809\n",
            " 138.18395362 111.70028457 130.33162869 109.30022499 105.19184541\n",
            " 122.43012204 169.67560755 192.46724432 151.55485095 181.39829821\n",
            " 194.45369148 125.10800762 181.4126921  127.0807078  123.29448284\n",
            " 105.58947689 123.37367972 188.72569841 131.67135775 155.04569514\n",
            " 166.89146795 111.41835063 107.51943767 109.08343929 127.39187039\n",
            " 188.87401839 144.21096091 194.49616844 127.86517676 107.72898919\n",
            " 144.50355042 147.8963525  152.90556621 189.48143901 193.79296932\n",
            " 177.82143674 101.25278333 161.56707092 121.51729757 161.78752928\n",
            " 178.4662797  113.74111209 195.92430463 157.93760606 149.12069509\n",
            " 112.58327989 106.60860904 115.1264444  138.23096575 114.60089857\n",
            " 166.56424105 186.39043567 156.58997374 123.77665306 130.19536713\n",
            " 131.86328225 188.06691986 188.2862956  100.03862601 146.21986898\n",
            " 112.51737779 199.69197173 199.71861783 131.23586188 193.97829536\n",
            " 174.44277278 102.51888245 157.68099638 149.44013692 179.70844133\n",
            " 197.03427835 160.05948227 124.67341403 129.60437564 192.63316562\n",
            " 124.4971461  120.06499958 146.3489988  180.13701562 162.22572368\n",
            " 158.33947337 100.98101592 178.88299889 151.14447607 187.23031094\n",
            " 120.97302769 145.03121241 185.76040245 186.37797952 108.57795418\n",
            " 152.3122428  150.73469773 125.56748975 197.70610001 198.61803448\n",
            " 126.31495851 172.56037767 156.99812537 135.55468258 188.77301052\n",
            " 140.43199602 150.46073514 146.5343981  180.89697844 111.77917173\n",
            " 102.55355958 195.27320118 144.0719248  134.16530257 114.88386991\n",
            " 160.01452124 118.97743448 151.8647814  112.71425291 114.28665018\n",
            " 100.77071553 180.59617916 183.27963386 170.18261563 124.20020116\n",
            " 195.02436836 135.43673097 129.04039255 125.39564382 165.19273408\n",
            " 147.31755013 151.479993   198.50272752 177.00581433 143.03221917\n",
            " 168.4699254  181.38016355 189.04898651 190.92339342 196.13890748\n",
            " 161.32595644 172.73908679 186.08006051 143.12328851 197.20723109\n",
            " 104.6352887  125.32508512 130.34158681 168.56851564 137.98516375\n",
            " 119.75486535 193.92389472 138.82108031 178.72253459 174.51490206\n",
            " 148.98425923 120.76645199 166.84454614 112.13048746 107.66048203\n",
            " 183.84738117 156.68006799 192.96197834 119.25984876 122.77682778\n",
            " 100.69792143 115.08486389 186.49462383 199.74606718 199.2719076\n",
            " 197.9553206  131.7277515  104.67674492 157.73919888 156.32627215\n",
            " 168.54728346 109.05842477 132.1346247  154.65478231 119.96813595\n",
            " 111.99270135 119.25104491 164.17815088 124.65368051 167.57254348\n",
            " 129.40884706 165.76990462 192.20343973 178.53207464 133.92676113\n",
            " 156.28170554 109.19180834 182.55372723 151.48456857 144.44921073\n",
            " 109.05796842 111.34903941 175.23116853 135.5199249  193.27023032\n",
            " 177.70372806 152.23488637 119.63858217 120.01342784 143.50843077\n",
            " 192.93476641 163.11465185 172.83394583 153.33233987 109.81486676\n",
            " 113.7952995  174.73799281 138.2849623  189.3005819  199.93183984\n",
            " 122.33137585 114.73102665 114.86360611 172.80906421 144.53596666\n",
            " 124.27300782 125.49859489 189.86942808 111.18775464 190.15183229\n",
            " 162.41499945 121.86605032 122.66528373 156.38653669 171.49656131\n",
            " 179.49614902 195.81768361 170.94873784 167.20306804 111.18044613\n",
            " 125.37870317 157.54750253 160.39650477 145.26273306 116.21782187\n",
            " 192.51276094 105.14306656 168.15649518 112.78361324 196.59250977\n",
            " 107.9836433  126.12756656 142.17649466 106.47876073 129.70506748\n",
            " 192.45106325 131.89731992 105.59757089 193.68538967 174.82734623\n",
            " 158.06670349 187.98324926 129.50585039 110.67064376 106.78774957\n",
            " 146.23990919 198.82122919 180.12902732 139.96980903 173.5459526\n",
            " 103.63041643 152.02521969 101.41307514 199.41520125 150.78459512\n",
            " 166.32529138 114.76369801 164.46244385 118.61495009 121.21377215\n",
            " 142.45712175 160.36249211 122.13740446 190.93037772 188.64519987\n",
            " 130.38428323 105.12022545 134.64943208 196.31862761 166.37223824\n",
            " 171.38765014 103.60093546 146.94306181 191.95544668 132.06350855\n",
            " 184.56393616 128.11968279 150.37925919 126.88689436 170.42021752\n",
            " 100.75873749 129.55548087 147.72345139 140.87898796 188.69564383\n",
            " 101.37950629 198.59255076 183.05719794 179.10456321 131.8857677\n",
            " 113.57121372 137.94901433 152.16100495 137.08742015 152.01227355\n",
            " 124.91791406 187.96243327 177.78188281 102.34861025 111.16693114\n",
            " 151.63217944 121.98828039 184.97929387 102.60189776 167.59984233\n",
            " 172.01472398 104.86871815 145.71696004 154.460093   141.55641666\n",
            " 190.35028932 147.06934448 187.35167759 136.45164217 131.90083159\n",
            " 194.27521823 197.48626944 161.04880255 181.17022686 119.11941835\n",
            " 108.57395515 174.63050578 144.19360768 149.69953622 168.70705395\n",
            " 155.70190905 198.99488601 131.18509094 106.00018496 115.26367613\n",
            " 149.52025711 130.13512752 188.78723026 160.40087831 168.23603123\n",
            " 120.00544353 156.52728449 170.72878123 140.9163715  180.77086863\n",
            " 141.85744524 107.14548526 131.89920009 112.34297635 183.25689117]\n"
          ],
          "name": "stdout"
        }
      ]
    }
  ]
}